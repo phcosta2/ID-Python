{
 "cells": [
  {
   "cell_type": "markdown",
   "id": "3e499d63",
   "metadata": {},
   "source": [
    "# O que é o Pandas?\n",
    "\n",
    "O **Pandas** é uma biblioteca de software escrita em Python, utilizada principalmente para manipulação e análise de dados. É uma das ferramentas mais populares voltada a ciência de dados em Python. A biblioteca fornece estruturas de dados projetadas para facilitar o trabalho com dados estruturados.\n",
    "\n",
    "\n",
    "## Principais Funcionalidades\n",
    "\n",
    "O Pandas oferece uma série de funcionalidades para trabalhar com dados:\n",
    "\n",
    "- **Leitura e Escrita de Dados**: Pandas permite ler e escrever dados de/para uma variedade de formatos, como CSV, Excel, SQL, JSON, entre outros.\n",
    "  \n",
    "- **Manipulação de Dados**: É possível selecionar, filtrar, agrupar e transformar dados de maneira eficiente usando métodos do Pandas.\n",
    "  \n",
    "- **Tratamento de Dados Faltantes**: Pandas tem métodos robustos para lidar com valores nulos ou faltantes em datasets.\n",
    "  \n",
    "- **Análise Estatística e Resumo**: Com funções como `describe()`, Pandas oferece uma visão geral estatística dos dados numéricos de um `DataFrame`.\n",
    "\n",
    "- **Integração com Outras Bibliotecas**: Pandas se integra bem com outras bibliotecas populares como NumPy (para operações numéricas) e Matplotlib (para visualização de dados).\n"
   ]
  },
  {
   "cell_type": "markdown",
   "id": "5272aa72",
   "metadata": {},
   "source": [
    "## Assuntos Tratados em Cada Módulo\n",
    "\n",
    "### Módulo 1: Introdução ao Pandas\n",
    "- Instalação e Importação do pandas\n",
    "- Estruturas de Dados Básicas: Series e Data Frames\n",
    "- Visualização de Dados (head, tail, info, describe)\n",
    "\n",
    "### Módulo 2: Operações Básicas com Data Frames\n",
    "- Leitura e escrita de Arquivos CSV, Excel, JSON e Parquet\n",
    "- Filtragem de Dados com Condições\n",
    "- Manipulação de Índices (set_index, reset_index)\n",
    "\n",
    "### Módulo 3: Manipulação de Dados\n",
    "- Tratamento de dados (valores nulos, remoção de duplicatas)\n",
    "- Manipulação de colunas (criação, exclusão e renomeação)\n",
    "- Aplicação de Funções em Colunas (apply, map)\n",
    "\n",
    "### Módulo 4: Análise e Transformação de Dados\n",
    "- Agrupamento de Dados com groupby\n",
    "- Aplicação de Funções (média, soma, contagem)\n",
    "- Mesclagem e Junção de Data Frames (merge, join, concat)\n",
    "- Ordenação de Dados (sort_values, sort_index)\n",
    "\n",
    "### Módulo 5: Trabalhando com Dados Reais\n",
    "- Projetos práticos com dados artificiais e reais\n",
    "\n",
    "### Módulo 6: Técnicas Avançadas no Pandas\n",
    "- Seleção de Colunas e Linhas (loc, iloc)\n",
    "- Manipulação de Data Frames grandes com chunksize e processamento em lote\n",
    "- Operações com Dados Temporais: Manipulação de datas, resampling\n",
    "- Pivot Tables e Cross-tab para Análise de Dados\n",
    "- Uso de apply para funções complexas e customizadas\n",
    "\n",
    "### Módulo 7: Introdução ao Seaborn\n",
    "- Instalação e Importação do seaborn\n",
    "- Comparação entre matplotlib e seaborn\n",
    "- Configurações Globais e Estilos de Gráficos (set_style, set_palette)\n",
    "\n",
    "### Módulo 8: Gráficos Básicos com Seaborn\n",
    "- Gráficos de Distribuição: histplot, kdeplot\n",
    "- Gráficos de Dispersão: scatterplot, relplot"
   ]
  }
 ],
 "metadata": {
  "kernelspec": {
   "display_name": "Python 3 (ipykernel)",
   "language": "python",
   "name": "python3"
  },
  "language_info": {
   "codemirror_mode": {
    "name": "ipython",
    "version": 3
   },
   "file_extension": ".py",
   "mimetype": "text/x-python",
   "name": "python",
   "nbconvert_exporter": "python",
   "pygments_lexer": "ipython3",
   "version": "3.11.5"
  }
 },
 "nbformat": 4,
 "nbformat_minor": 5
}
