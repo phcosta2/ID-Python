{
 "cells": [
  {
   "cell_type": "markdown",
   "id": "71d17d2d",
   "metadata": {},
   "source": [
    "# Módulo 0 — Plano do Módulo: Flask & Django (introdução prática)\n",
    "\n",
    "\n"
   ]
  },
  {
   "cell_type": "markdown",
   "id": "46808d0e",
   "metadata": {},
   "source": [
    "## Como usar este material\n",
    "\n",
    "- Leia cada seção , siga as instruções e realize o projeto e preparação do ambiente\n",
    "- Os módulos **1 a 3** desse material apenas ensinam como montar o ambiente\n",
    "- Nesse módulo o código será dado e também comentado o prosíto de quem está aprendendo e justamente ler o código e aprender com base no código escrito\n",
    "- Exemplos usam **Python 3.10+** e **SQLite**.\n",
    "- Sistema operacional: Windows, macOS ou Linux — o processo é similar."
   ]
  },
  {
   "cell_type": "markdown",
   "id": "4bad36af",
   "metadata": {},
   "source": [
    "## Pré‑requisitos rápidos\n",
    "\n",
    "- Python instalado (`python --version` >= 3.10).\n",
    "- Saber criar e ativar um ambiente virtual:\n",
    "  - Windows: `python -m venv .venv` e depois `.venv\\Scripts\\activate`\n",
    "  - macOS/Linux: `python -m venv .venv` e depois `source .venv/bin/activate`\n",
    "- Noções básicas de terminal, pastas e arquivos.\n",
    "- Conhecimento de HTML, CSS e Javascript\n",
    "- (Opcional) Git instalado para versionar os projetos.\n"
   ]
  },
  {
   "cell_type": "markdown",
   "id": "ec115163",
   "metadata": {},
   "source": [
    "## Estrutura do modulo (visão geral)\n",
    "\n",
    "- **Trilha curta** e **analise de código**.\n",
    "- Cada módulo indica: *o que você vai aprender*, *o que vai construir*\n"
   ]
  },
  {
   "cell_type": "markdown",
   "id": "9be46b55",
   "metadata": {},
   "source": [
    "---\n",
    "## Módulo 1 — Introdução ao Flask e Django\n",
    "    \n",
    "\n",
    "**Conceitos a serem pesquisados**\n",
    "- O que é HTTP: requisição, resposta e códigos de status.\n",
    "- Estrutura mínima de uma aplicação web.\n",
    "- Templates e renderização (conceito de Jinja).\n",
    "- JSON no backend.\n",
    "\n",
    "> Nesse módulo não haverá vídeo, é um módulo de pesquisa (tarefa de casa)\n"
   ]
  },
  {
   "cell_type": "markdown",
   "id": "867c79a6",
   "metadata": {
    "jp-MarkdownHeadingCollapsed": true
   },
   "source": [
    "---\n",
    "## Módulo 2 — Flask Essencial (o microframework)\n",
    "\n",
    "**Você vai buscar aprender**\n",
    "\n",
    "- Como foi construido a página web\n",
    "\n",
    "\n",
    "- Leitura de código\n",
    "\n",
    "- Leitura de comentário\n",
    "\n",
    "**O que foi construido**\n",
    "\n",
    "- /register (GET/POST): formulário de cadastro (nome, e-mail, senha).\n",
    "\n",
    "Valida duplicidade de e-mail.\n",
    "\n",
    "Armazena hash de senha (werkzeug.security.generate_password_hash).\n",
    "\n",
    "Ao concluir, redireciona para /login (ou autentica e vai direto para /home, a critério didático do módulo).\n",
    "\n",
    "- /login (GET/POST): autenticação (e-mail + senha).\n",
    "\n",
    "Usa check_password_hash para validar.\n",
    "\n",
    "Ao logar, redireciona para /home.\n",
    "\n",
    "- /home (GET): página protegida (@login_required) que exibe “Olá, {nome}” (nome do usuário logado).\n",
    "\n",
    "- /logout (GET/POST): encerra a sessão e redireciona para /login.\n",
    "\n",
    "\n",
    "\n",
    "**Requisitos técnicos**\n",
    "\n",
    "Pacotes: Flask, Flask-WTF, Flask-Login, Flask-Migrate, SQLAlchemy, python-dotenv.\n",
    "\n",
    "Banco: SQLite (desenvolvimento).\n",
    "\n",
    "Segurança: CSRF nos formulários, hash de senha, SECRET_KEY via .env.\n"
   ]
  },
  {
   "cell_type": "markdown",
   "id": "9629acf1",
   "metadata": {},
   "source": [
    "---\n",
    "## Módulo 3 — Django Essencial (o “batteries‑included”)\n",
    "\n",
    "**Você vai aprender**\n",
    "- `django-admin startproject` e `manage.py startapp`.\n",
    "- Configurações básicas (`settings.py`) e URLs.\n",
    "- Views, Templates e ORM de forma introdutória.\n",
    "- Admin do Django (criar superuser).\n",
    "\n",
    "**Você vai construir**\n",
    "- Projeto `mysite` com app `core`.\n",
    "- Página Home que lista itens de exemplo (sem banco no início).\n",
    "- Acessar o painel `/admin/`.\n",
    "\n",
    "**Exercícios**\n",
    "- Criar uma nova view e mapear em `urls.py`.\n",
    "- Personalizar o template base com um título do projeto.\n"
   ]
  }
 ],
 "metadata": {
  "kernelspec": {
   "display_name": "Python [conda env:base]",
   "language": "python",
   "name": "conda-base-py"
  },
  "language_info": {
   "codemirror_mode": {
    "name": "ipython",
    "version": 3
   },
   "file_extension": ".py",
   "mimetype": "text/x-python",
   "name": "python",
   "nbconvert_exporter": "python",
   "pygments_lexer": "ipython3",
   "version": "3.12.3"
  }
 },
 "nbformat": 4,
 "nbformat_minor": 5
}
