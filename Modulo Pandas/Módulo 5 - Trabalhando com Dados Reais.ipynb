{
 "cells": [
  {
   "cell_type": "markdown",
   "id": "310a2393",
   "metadata": {},
   "source": [
    "### Exercicio de Fechamento do Conteúdo\n",
    "\n",
    "\n",
    "Imagine que você foi contratado como analista de dados para uma empresa fictícia chamada DataCorp. A empresa deseja entender melhor os perfis dos funcionários cadastrados em seu sistema, identificar padrões salariais, explorar dados de localização e realizar análises avançadas para tomadas de decisão estratégicas.\n",
    "\n",
    "A DataCorp já possui um banco de dados em formato CSV, que contém informações como IDs, nomes, idades, salários e as cidades onde os funcionários moram. Sua tarefa será realizar uma série de operações nesse banco, utilizando o pandas, para responder às seguintes perguntas:\n",
    "\n",
    "- Qual a distribuição de idades e salários no banco de dados?\n",
    "- Existem valores ausentes? Como podemos tratá-los?\n",
    "- Quem são os funcionários com salários acima de R$8.000,00?\n",
    "- Como criar uma nova coluna que categoriza os salários em \"Baixa\", \"Média\" e \"Alta\"?\n",
    "- Qual a média salarial por cidade?\n",
    "- Como adicionar novos registros de funcionários ao banco de dados?"
   ]
  },
  {
   "cell_type": "code",
   "execution_count": null,
   "id": "4a713b11",
   "metadata": {},
   "outputs": [],
   "source": []
  }
 ],
 "metadata": {
  "kernelspec": {
   "display_name": "Python 3 (ipykernel)",
   "language": "python",
   "name": "python3"
  },
  "language_info": {
   "codemirror_mode": {
    "name": "ipython",
    "version": 3
   },
   "file_extension": ".py",
   "mimetype": "text/x-python",
   "name": "python",
   "nbconvert_exporter": "python",
   "pygments_lexer": "ipython3",
   "version": "3.11.5"
  }
 },
 "nbformat": 4,
 "nbformat_minor": 5
}
