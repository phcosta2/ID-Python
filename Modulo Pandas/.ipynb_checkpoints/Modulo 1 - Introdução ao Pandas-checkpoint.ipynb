{
 "cells": [
  {
   "cell_type": "markdown",
   "id": "96c8d1d5",
   "metadata": {},
   "source": [
    "# Modulo 1 - Introdução ao Pandas\n"
   ]
  },
  {
   "cell_type": "markdown",
   "id": "d9292de0",
   "metadata": {},
   "source": [
    "##  - Instalação e Importação do Pandas\n",
    "\n"
   ]
  },
  {
   "cell_type": "code",
   "execution_count": 2,
   "id": "73c2f7d0",
   "metadata": {},
   "outputs": [],
   "source": [
    "## 1. Instalação e Importação do Pandas\n",
    "\n",
    "#Caso ainda não tenha o pandas instalado, você pode instalá-lo com o seguinte comando:\n",
    "\n",
    "# ``` bash ou cmd\n",
    "#!pip install pandas\n",
    "\n",
    "import pandas as pd\n"
   ]
  },
  {
   "cell_type": "markdown",
   "id": "39b92d27",
   "metadata": {},
   "source": [
    "## - Estruturas de Dados Básicas"
   ]
  },
  {
   "cell_type": "markdown",
   "id": "5973eb5d",
   "metadata": {},
   "source": [
    "### Series"
   ]
  },
  {
   "cell_type": "markdown",
   "id": "6df0a768",
   "metadata": {},
   "source": [
    "- Uma Series é uma estrutura de dados unidimensional, semelhante a um array. Pode conter dados de diferentes tipos (inteiros, strings, floats, etc.)."
   ]
  },
  {
   "cell_type": "code",
   "execution_count": 12,
   "id": "0f3c3048",
   "metadata": {},
   "outputs": [
    {
     "name": "stdout",
     "output_type": "stream",
     "text": [
      "a    10\n",
      "b    20\n",
      "c    30\n",
      "d    40\n",
      "e    50\n",
      "dtype: int64\n"
     ]
    }
   ],
   "source": [
    "series_exemplo = pd.Series([10, 20, 30, 40, 50], index=['a', 'b', 'c', 'd', 'e'])\n",
    "print(series_exemplo)"
   ]
  },
  {
   "cell_type": "markdown",
   "id": "746f2101",
   "metadata": {},
   "source": [
    "### Dataframes"
   ]
  },
  {
   "cell_type": "markdown",
   "id": "8e25c41c",
   "metadata": {},
   "source": [
    "- O DataFrame é uma estrutura de dados bidimensional (tabelas), composta por linhas e colunas. Cada coluna pode ser vista como uma Series"
   ]
  },
  {
   "cell_type": "code",
   "execution_count": 3,
   "id": "22126b26",
   "metadata": {},
   "outputs": [
    {
     "name": "stdout",
     "output_type": "stream",
     "text": [
      "      Nome  Idade          Cidade\n",
      "0      Ana     23       São Paulo\n",
      "1    Bruno     25  Rio de Janeiro\n",
      "2    Pedro     30  Belo Horizonte\n",
      "3  Daniela     22        Curitiba\n"
     ]
    }
   ],
   "source": [
    "# Criando um DataFrame de exemplo\n",
    "data = {\n",
    "    'Nome': ['Ana', 'Bruno', 'Pedro', 'Daniela'],\n",
    "    'Idade': [23, 25, 30, 22],\n",
    "    'Cidade': ['São Paulo', 'Rio de Janeiro', 'Belo Horizonte', 'Curitiba']\n",
    "}\n",
    "\n",
    "df_exemplo = pd.DataFrame(data)\n",
    "print(df_exemplo)"
   ]
  },
  {
   "cell_type": "markdown",
   "id": "fe878181",
   "metadata": {},
   "source": [
    "##  - Visualização de Dados"
   ]
  },
  {
   "cell_type": "markdown",
   "id": "f4775bb7",
   "metadata": {},
   "source": [
    "- Depois de criar ou carregar dados em um DataFrame, é importante saber como visualizar e explorar esses dados."
   ]
  },
  {
   "cell_type": "markdown",
   "id": "6520ab90",
   "metadata": {},
   "source": [
    "### Visualizar as primeiras linhas - `head()`"
   ]
  },
  {
   "cell_type": "code",
   "execution_count": 4,
   "id": "2e706961",
   "metadata": {},
   "outputs": [
    {
     "name": "stdout",
     "output_type": "stream",
     "text": [
      "    Nome  Idade          Cidade\n",
      "0    Ana     23       São Paulo\n",
      "1  Bruno     25  Rio de Janeiro\n",
      "2  Pedro     30  Belo Horizonte\n"
     ]
    }
   ],
   "source": [
    "# Visualizando as 3 primeiras linhas do DataFrame\n",
    "print(df_exemplo.head(3))\n"
   ]
  },
  {
   "cell_type": "markdown",
   "id": "6bda540e",
   "metadata": {},
   "source": [
    "### Visualizar as últimas linhas - `tail()`"
   ]
  },
  {
   "cell_type": "code",
   "execution_count": 15,
   "id": "242010a8",
   "metadata": {},
   "outputs": [
    {
     "name": "stdout",
     "output_type": "stream",
     "text": [
      "      Nome  Idade          Cidade\n",
      "2   Carlos     30  Belo Horizonte\n",
      "3  Daniela     22        Curitiba\n"
     ]
    }
   ],
   "source": [
    "# Visualizando as 2 últimas linhas do DataFrame\n",
    "print(df_exemplo.tail(2))"
   ]
  },
  {
   "cell_type": "markdown",
   "id": "a583150b",
   "metadata": {},
   "source": [
    "### Informações gerais - `info()`"
   ]
  },
  {
   "cell_type": "code",
   "execution_count": 16,
   "id": "c4d11e1d",
   "metadata": {},
   "outputs": [
    {
     "name": "stdout",
     "output_type": "stream",
     "text": [
      "<class 'pandas.core.frame.DataFrame'>\n",
      "RangeIndex: 4 entries, 0 to 3\n",
      "Data columns (total 3 columns):\n",
      " #   Column  Non-Null Count  Dtype \n",
      "---  ------  --------------  ----- \n",
      " 0   Nome    4 non-null      object\n",
      " 1   Idade   4 non-null      int64 \n",
      " 2   Cidade  4 non-null      object\n",
      "dtypes: int64(1), object(2)\n",
      "memory usage: 228.0+ bytes\n",
      "None\n"
     ]
    }
   ],
   "source": [
    "# Exibindo informações gerais do DataFrame\n",
    "print(df_exemplo.info())"
   ]
  },
  {
   "cell_type": "markdown",
   "id": "d3429f31",
   "metadata": {},
   "source": [
    "### Estatísticas descritivas - `describe()`"
   ]
  },
  {
   "cell_type": "code",
   "execution_count": 17,
   "id": "1022d96c",
   "metadata": {},
   "outputs": [
    {
     "name": "stdout",
     "output_type": "stream",
     "text": [
      "           Idade\n",
      "count   4.000000\n",
      "mean   25.000000\n",
      "std     3.559026\n",
      "min    22.000000\n",
      "25%    22.750000\n",
      "50%    24.000000\n",
      "75%    26.250000\n",
      "max    30.000000\n"
     ]
    }
   ],
   "source": [
    "# Exibindo estatísticas descritivas do DataFrame\n",
    "print(df_exemplo.describe())\n",
    "\n",
    "# count: Número de entradas não nulas.\n",
    "#mean: Média aritmética dos valores.\n",
    "#std: Desvio padrão, que mede a dispersão dos dados em relação à média.\n",
    "#min: O valor mínimo da coluna.\n",
    "#25%: Primeiro quartil (percentil 25), que indica que 25% dos dados estão abaixo desse valor.\n",
    "#50%: Mediana (percentil 50), que indica que 50% dos dados estão abaixo desse valor.\n",
    "#75%: Terceiro quartil (percentil 75), que indica que 75% dos dados estão abaixo desse valor.\n",
    "#max: O valor máximo da coluna."
   ]
  },
  {
   "cell_type": "markdown",
   "id": "1c15ca31",
   "metadata": {},
   "source": [
    "# Exercício: Análise de Dados de Vendas\n",
    "\n",
    "Você é responsável por analisar os dados de vendas de uma pequena empresa. Os dados estão organizados nas seguintes colunas:\n",
    "\n",
    "- **Produto**: O nome do produto vendido.\n",
    "- **Quantidade**: A quantidade de produtos vendidos.\n",
    "- **Preço Unitário**: O preço por unidade de cada produto.\n",
    "\n",
    "## Passos:\n",
    "\n",
    "### 1. Instale e importe o Pandas  \n",
    "   - Se necessário, instale o `pandas` e importe-o para o seu notebook.\n",
    "\n",
    "### 2. Crie um DataFrame  \n",
    "   Com base nos dados abaixo, crie um DataFrame chamado `df_vendas`:\n",
    "\n",
    "   | Produto   | Quantidade | Preço Unitário |\n",
    "   |-----------|------------|----------------|\n",
    "   | TV        | 5          | 2000           |\n",
    "   | Geladeira | 3          | 1500           |\n",
    "   | Celular   | 10         | 1200           |\n",
    "   | Notebook  | 2          | 3000           |\n",
    "   | TV        | 4          | 2000           | \n",
    "   | Celular   | 7          | 1200           | \n",
    "\n",
    "   - Utilize um dicionário para criar esse DataFrame.\n",
    "\n",
    "### 3. Visualize os dados  \n",
    "   - Exiba as primeiras 3 linhas do DataFrame com `head()`.\n",
    "   - Exiba as últimas 2 linhas do DataFrame com `tail()`.\n",
    "\n",
    "### 4. Obtenha informações gerais dos dados  \n",
    "   - Use o método `info()` para obter uma visão geral das colunas, tipos de dados e valores nulos.\n",
    "\n",
    "### 5. Exiba estatísticas descritivas  \n",
    "   - Utilize o método `describe()` para exibir estatísticas descritivas das colunas numéricas.\n",
    "\n",
    "### 6. Cálculo do valor total\n",
    "   - Crie uma nova coluna chamada `Valor Total`, que é o resultado da multiplicação de `Quantidade` e `Preço Unitário`\n",
    "\n",
    "   - Exiba o DataFrame com a nova coluna.\n"
   ]
  },
  {
   "cell_type": "code",
   "execution_count": 18,
   "id": "e26f7d86",
   "metadata": {},
   "outputs": [],
   "source": [
    "#Digite o código abaixo"
   ]
  }
 ],
 "metadata": {
  "kernelspec": {
   "display_name": "Python 3 (ipykernel)",
   "language": "python",
   "name": "python3"
  },
  "language_info": {
   "codemirror_mode": {
    "name": "ipython",
    "version": 3
   },
   "file_extension": ".py",
   "mimetype": "text/x-python",
   "name": "python",
   "nbconvert_exporter": "python",
   "pygments_lexer": "ipython3",
   "version": "3.11.5"
  }
 },
 "nbformat": 4,
 "nbformat_minor": 5
}
