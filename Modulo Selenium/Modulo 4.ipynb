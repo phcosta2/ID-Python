{
 "cells": [
  {
   "cell_type": "markdown",
   "id": "04b64a0e-81d7-4aa8-9bb6-d9e3b17bfe39",
   "metadata": {},
   "source": [
    "## 🖱️ Módulo 4 – Interações Avançadas\n",
    "\n",
    "Além de clicar e digitar, o Selenium permite simular interações mais complexas, como mover o mouse, usar teclas especiais, lidar com pop-ups (alertas) e gerenciar múltiplas janelas ou abas do navegador.\n",
    "\n",
    "### **Objetivos**\n",
    "- Realizar ações complexas com a classe `ActionChains`:\n",
    "  - **Movimentação do mouse:** `move_to_element` (hover), `drag_and_drop`.\n",
    "  - **Teclado:** `send_keys` para teclas especiais (Enter, Ctrl, Shift), `key_down`, `key_up`.\n",
    "- Manipular **alertas** JavaScript (`accept`, `dismiss`, `send_keys`).\n",
    "- Gerenciar **múltiplas janelas/abas** (`window_handles`, `switch_to.window`).\n",
    "- Trabalhar com **iframes** (`switch_to.frame`).\n",
    "\n",
    "### **Sintaxe Básica**\n",
    "```python\n",
    "from selenium.webdriver.common.action_chains import ActionChains\n",
    "from selenium.webdriver.common.keys import Keys\n",
    "\n",
    "# ActionChains para hover\n",
    "actions = ActionChains(driver)\n",
    "menu = driver.find_element(By.ID, 'menu')\n",
    "submenu = driver.find_element(By.ID, 'submenu')\n",
    "actions.move_to_element(menu).click(submenu).perform()\n",
    "\n",
    "# Manipular Alertas\n",
    "alert = driver.switch_to.alert\n",
    "alert.accept() # Clica em 'OK'\n",
    "\n",
    "# Mudar para nova aba\n",
    "janelas_abertas = driver.window_handles # Pega a lista de todas as janelas\n",
    "driver.switch_to.window(janelas_abertas[1]) # Muda o foco para a segunda janela"
   ]
  },
  {
   "cell_type": "markdown",
   "id": "e3fe6580-b63e-4094-8354-04c47d15cd6b",
   "metadata": {},
   "source": [
    "### Projeto Prático: Automatizar navegação com múltiplas abas e aceitar alertas\n",
    "Neste projeto, vamos:\n",
    "\n",
    " - Abrir uma página. (https://the-internet.herokuapp.com/windows)\n",
    "\n",
    "- Clicar em um link que abre uma nova aba.\n",
    "\n",
    "- Mudar o foco para a nova aba e verificar seu título.\n",
    "\n",
    "- Voltar para a aba original e clicar em um botão que dispara um alerta (https://the-internet.herokuapp.com/javascript_alerts).\n",
    "\n",
    "- Aceitar o alerta."
   ]
  },
  {
   "cell_type": "code",
   "execution_count": 12,
   "id": "c81241b9-9186-44f4-8cbd-b8e45e581981",
   "metadata": {},
   "outputs": [
    {
     "name": "stdout",
     "output_type": "stream",
     "text": [
      "Janela original: 67C36D726028770A7D56D02EE0BFABB9\n",
      "Link clicado para abrir nova aba.\n",
      "Foco alterado para a nova janela: EF3EA6E3F87C1E41B2E410C49D3F1A0F\n",
      "Título da nova aba: New Window\n",
      "Foco retornado para a janela original.\n",
      "Título da aba original: The Internet\n",
      "Alerta exibido.\n",
      "Texto do alerta: \"I am a JS Alert\"\n",
      "Alerta aceito.\n"
     ]
    }
   ],
   "source": [
    "from selenium import webdriver\n",
    "from selenium.webdriver.common.by import By\n",
    "from selenium.webdriver.support.ui import WebDriverWait\n",
    "from selenium.webdriver.support import expected_conditions as EC\n",
    "from time import sleep\n",
    "\n",
    "driver = webdriver.Chrome()\n",
    "wait = WebDriverWait(driver, 10)\n",
    "driver.get('https://the-internet.herokuapp.com/windows')\n",
    "\n",
    "# 1. Armazena o identificador da janela original\n",
    "janela_original = driver.current_window_handle\n",
    "print(f'Janela original: {janela_original}')\n",
    "\n",
    "# 2. Clica no link para abrir uma nova aba\n",
    "driver.find_element(By.LINK_TEXT, 'Click Here').click()\n",
    "print('Link clicado para abrir nova aba.')\n",
    "\n",
    "# 3. Espera até que haja duas janelas abertas e muda para a nova\n",
    "wait.until(EC.number_of_windows_to_be(2))\n",
    "janelas = driver.window_handles\n",
    "nova_janela = [janela for janela in janelas if janela != janela_original][0]\n",
    "driver.switch_to.window(nova_janela)\n",
    "\n",
    "print(f'Foco alterado para a nova janela: {nova_janela}')\n",
    "print(f'Título da nova aba: {driver.title}')\n",
    "sleep(2)\n",
    "\n",
    "# 4. Volta para a janela original\n",
    "driver.switch_to.window(janela_original)\n",
    "print(f'Foco retornado para a janela original.')\n",
    "print(f'Título da aba original: {driver.title}')\n",
    "sleep(2)\n",
    "\n",
    "# --- Manipulando Alertas ---\n",
    "driver.get('https://the-internet.herokuapp.com/javascript_alerts')\n",
    "\n",
    "# Clica no botão para exibir um alerta simples\n",
    "driver.find_element(By.XPATH, '//button[text()=\"Click for JS Alert\"]').click()\n",
    "print('Alerta exibido.')\n",
    "\n",
    "# 5. Muda o foco para o alerta e o aceita\n",
    "alert = wait.until(EC.alert_is_present())\n",
    "texto_alerta = alert.text\n",
    "print(f'Texto do alerta: \"{texto_alerta}\"')\n",
    "alert.accept()\n",
    "print('Alerta aceito.')\n",
    "\n",
    "sleep(2)\n",
    "driver.quit()"
   ]
  }
 ],
 "metadata": {
  "kernelspec": {
   "display_name": "Python 3 (ipykernel)",
   "language": "python",
   "name": "python3"
  },
  "language_info": {
   "codemirror_mode": {
    "name": "ipython",
    "version": 3
   },
   "file_extension": ".py",
   "mimetype": "text/x-python",
   "name": "python",
   "nbconvert_exporter": "python",
   "pygments_lexer": "ipython3",
   "version": "3.12.3"
  }
 },
 "nbformat": 4,
 "nbformat_minor": 5
}
