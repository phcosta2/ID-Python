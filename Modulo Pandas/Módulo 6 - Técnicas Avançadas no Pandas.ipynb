{
 "cells": [
  {
   "cell_type": "markdown",
   "id": "62297017",
   "metadata": {},
   "source": [
    "# Módulo 6: Técnicas Avançadas no Pandas\n"
   ]
  },
  {
   "cell_type": "markdown",
   "id": "904d0626",
   "metadata": {},
   "source": [
    "Este módulo aborda técnicas mais avançadas da biblioteca Pandas, ideais para quem já domina o básico e deseja analisar dados mais complexos e em maior volume. Abaixo, explicamos cada técnica usada, seguida de exemplos práticos."
   ]
  },
  {
   "cell_type": "markdown",
   "id": "f3f40c3f",
   "metadata": {},
   "source": [
    "## 1. Seleção de Colunas e Linhas com `loc` e `iloc`\n",
    "\n",
    "- `loc`: seleção baseada em **rótulos** (nomes de linhas/colunas).\n",
    "```python\n",
    "df.loc[0:5, ['Data', 'Valor']]\n",
    "```\n",
    "\n",
    "- `iloc`: seleção baseada em **índices numéricos** (posição das linhas/colunas).\n",
    "```python\n",
    "df.iloc[0:5, [0, 2]]\n",
    "```\n",
    "Essas seleções são úteis para isolar partes do DataFrame para análise ou visualização específica.\n"
   ]
  },
  {
   "cell_type": "markdown",
   "id": "964521d1",
   "metadata": {},
   "source": [
    "## 2. Manipulação de DataFrames Grandes com `chunksize`\n",
    "\n",
    "Ao lidar com arquivos grandes, é comum processá-los em pedaços (chunks). O parâmetro `chunksize` do `read_csv()` permite isso:\n",
    "```python\n",
    "for chunk in pd.read_csv(\"arquivo.csv\", chunksize=100):\n",
    "    # Processar cada pedaço separadamente\n",
    "```\n",
    "Essa técnica evita sobrecarregar a memória RAM e permite processar dados em lote.\n"
   ]
  },
  {
   "cell_type": "markdown",
   "id": "30d54415",
   "metadata": {},
   "source": [
    "## 3. Operações com Dados Temporais e `resample`\n",
    "\n",
    "Pandas facilita a manipulação de datas, especialmente ao usar `resample()` para agrupar dados por períodos:\n",
    "```python\n",
    "df['Data'] = pd.to_datetime(df['Data'])\n",
    "df.set_index('Data', inplace=True)\n",
    "df['Valor'].resample('M').mean()\n",
    "```\n",
    "Essa abordagem permite calcular médias, somas e contagens por mês, semana ou ano.\n"
   ]
  },
  {
   "cell_type": "markdown",
   "id": "1639cfb1",
   "metadata": {},
   "source": [
    "## 4. Tabelas Dinâmicas: `pivot_table` e `crosstab`\n",
    "\n",
    "- `pivot_table`: resume valores em uma tabela dinâmica com agregações.\n",
    "```python\n",
    "pd.pivot_table(df, values='Valor', index='Categoria', columns='Mês', aggfunc='mean')\n",
    "```\n",
    "\n",
    "- `crosstab`: calcula frequências entre categorias.\n",
    "```python\n",
    "pd.crosstab(df['Categoria'], df['Ano'])\n",
    "```\n",
    "Essas ferramentas são ideais para sumarização e análises comparativas.\n"
   ]
  },
  {
   "cell_type": "markdown",
   "id": "2bf7d28d",
   "metadata": {},
   "source": [
    "## 5. Aplicação de Funções Personalizadas com `apply`\n",
    "\n",
    "Com `apply`, podemos aplicar funções customizadas em colunas ou linhas:\n",
    "```python\n",
    "def classificar(x):\n",
    "    if x >= 80:\n",
    "        return 'Alto'\n",
    "    elif x >= 50:\n",
    "        return 'Médio'\n",
    "    else:\n",
    "        return 'Baixo'\n",
    "\n",
    "df['Classificação'] = df['Valor'].apply(classificar)\n",
    "```\n",
    "Isso é útil para categorizar ou transformar dados de forma dinâmica.\n"
   ]
  },
  {
   "cell_type": "markdown",
   "id": "a9cbb61d",
   "metadata": {},
   "source": [
    "---\n",
    "\n",
    "✅ Agora que você entendeu os conceitos principais, vamos praticar com um exercício real.\n",
    "\n",
    "Na próxima célula, você encontrará o enunciado de uma atividade que engloba tudo o que foi explicado até aqui.\n",
    "\n"
   ]
  },
  {
   "cell_type": "markdown",
   "id": "220f69ad-be44-4d2f-9854-87bdd70497c6",
   "metadata": {},
   "source": [
    "## 🧠 Desafio Final: Explorando e Transformando Dados com Pandas\n",
    "\n",
    "Neste desafio, você irá aplicar tudo o que aprendeu neste módulo: seleção com `loc` e `iloc`, manipulação de grandes volumes de dados, análise temporal com `resample`, tabelas dinâmicas com `pivot_table`, contagens com `crosstab` e funções personalizadas com `apply`.\n",
    "\n",
    "---\n",
    "\n",
    "### 📦 Etapa 1: Criando seu próprio DataFrame\n",
    "\n",
    "Antes de começar, crie um DataFrame com os seguintes requisitos:\n",
    "\n",
    "- Uma coluna `Data` com pelo menos 60 datas (pode usar `pd.date_range()`).\n",
    "- Uma coluna `Categoria` com valores aleatórios entre `'A'`, `'B'`, `'C'`.\n",
    "- Uma coluna `Valor` com números decimais (simulando valores monetários entre R$ 10,00 e R$ 100,00).\n",
    "- (Opcional) Uma coluna `Grupo`, com valores como `'Online'` ou `'Loja Física'`.\n",
    "\n",
    "Você pode usar `numpy.random` para gerar os dados aleatórios. Exemplo de criação de datas:\n",
    "\n",
    "```python\n",
    "pd.date_range(start=\"2023-01-01\", periods=60, freq='D')\n",
    "\n",
    "\n",
    "### 📝 Etapa 2: Tarefas do Desafio\n",
    "\n",
    "Com seu DataFrame criado, realize as tarefas a seguir:\n",
    "\n",
    "---\n",
    "\n",
    "#### 1️⃣ Filtrar por categoria\n",
    "Crie um novo DataFrame contendo apenas os dados da **Categoria B**.\n",
    "\n",
    "---\n",
    "\n",
    "#### 2️⃣ Classificação por faixa de valor\n",
    "Adicione uma nova coluna chamada `FaixaValor`, de acordo com a regra:\n",
    "\n",
    "- `\"Baixo\"` → se o valor for **menor que 40**\n",
    "- `\"Médio\"` → se o valor estiver **entre 40 e 70**\n",
    "- `\"Alto\"` → se o valor for **70 ou mais**\n",
    "\n",
    "Você pode usar a função `apply()` com uma função personalizada.\n",
    "\n",
    "---\n",
    "\n",
    "#### 3️⃣ Média semanal com `resample()`\n",
    "Utilize `resample()` para calcular a **média semanal** da coluna `Valor`.\n",
    "\n",
    "> 💡 Certifique-se de que a coluna `Data` esteja no formato datetime e seja o índice do DataFrame.\n",
    "\n",
    "---\n",
    "\n",
    "#### 4️⃣ Tabela dinâmica (pivot table)\n",
    "Crie uma `pivot_table` que mostre a **média do valor** para cada combinação entre:\n",
    "\n",
    "- **Linha**: `FaixaValor`\n",
    "- **Coluna**: semana (pode ser obtida com `.dt.isocalendar().week`)\n",
    "\n",
    "---\n",
    "\n",
    "#### 5️⃣ Tabela de frequência (crosstab)\n",
    "Crie um `crosstab` com a **contagem de registros** de cada `FaixaValor` por **mês** (use `.dt.month`).\n",
    "\n",
    "---\n",
    "\n",
    "✅ Ao final, observe se há padrões ou tendências:\n",
    "- Há mais registros \"Altos\" em algum mês?\n",
    "- A média semanal varia muito?\n",
    "- Alguma faixa de valor domina?\n",
    "\n",
    "Explore e reflita sobre os dados!\n"
   ]
  }
 ],
 "metadata": {
  "kernelspec": {
   "display_name": "Python [conda env:base]",
   "language": "python",
   "name": "conda-base-py"
  },
  "language_info": {
   "codemirror_mode": {
    "name": "ipython",
    "version": 3
   },
   "file_extension": ".py",
   "mimetype": "text/x-python",
   "name": "python",
   "nbconvert_exporter": "python",
   "pygments_lexer": "ipython3",
   "version": "3.12.3"
  }
 },
 "nbformat": 4,
 "nbformat_minor": 5
}
