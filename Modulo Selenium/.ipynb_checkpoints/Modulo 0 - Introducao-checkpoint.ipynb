{
 "cells": [
  {
   "cell_type": "markdown",
   "id": "dfdacef1",
   "metadata": {},
   "source": [
    "# 🧪 Selenium – Automação de Navegadores Web\n",
    "\n",
    "### 📌 O que é o Selenium?\n",
    "\n",
    "O Selenium é uma ferramenta de automação de navegadores web. Ele permite simular ações humanas em navegadores como clicar, preencher formulários, rolar páginas, extrair dados (web scraping), tirar prints, e muito mais.\n",
    "\n",
    "> Com Selenium, é possível automatizar testes, tarefas repetitivas, ou até mesmo interagir com sistemas que não têm uma API pública.\n",
    "\n",
    "\n",
    "\n",
    "| Uso                      | Descrição                                                    |\n",
    "|--------------------------|--------------------------------------------------------------|\n",
    "| ✅ Testes Automatizados   | Automatizar testes funcionais em páginas web.                |\n",
    "| 🧹 Web Scraping          | Extrair informações de páginas que exigem interação humana (JavaScript, login, cliques). |\n",
    "| 🛠️ Automação de Tarefas   | Automatizar login, envio de formulários, uploads, e ações em sistemas web. |\n",
    "| 🧪 QA (Quality Assurance) | Testar comportamentos, fluxos e validações em sistemas web antes do deploy. |\n",
    "| 📷 Captura de Tela        | Tirar prints de páginas em diferentes estados ou navegadores.|\n",
    "| 💡 Simulação de Usuários Reais | Testar como usuários interagem com sua aplicação (incluindo cliques, rolagem e tempo de espera). |\n"
   ]
  },
  {
   "cell_type": "markdown",
   "id": "2b03be66",
   "metadata": {},
   "source": [
    "### 🧩1. Arquitetura do Selenium\n",
    "\n",
    "O Selenium não é uma única ferramenta, mas sim um ecossistema com vários componentes que se complementam:\n",
    "\n",
    "###  ⚙️2.1 Selenium WebDriver\n",
    "\n",
    "WebDriver é a interface principal para controlar os navegadores. Ele fornece comandos que podem ser usados para simular ações como clicar, digitar, rolar, navegar, etc.\n",
    "\n",
    "Ele funciona através de uma arquitetura cliente-servidor:\n",
    "\n",
    "Seu script (cliente) envia comandos para o WebDriver.\n",
    "\n",
    "O WebDriver traduz esses comandos em chamadas específicas para o navegador.\n",
    "\n",
    "O navegador executa as ações e retorna os resultados.\n",
    "\n",
    "### 2.2 Drivers de Navegador\n",
    "\n",
    "Cada navegador tem seu driver específico que atua como um intermediário entre o WebDriver e o navegador.\n",
    "\n",
    "Exemplos:\n",
    "\n",
    "ChromeDriver para Google Chrome.\n",
    "\n",
    "GeckoDriver para Mozilla Firefox.\n",
    "\n",
    "EdgeDriver para Microsoft Edge.\n",
    "\n",
    "Esses drivers entendem as APIs do navegador e executam as ações solicitadas pelo Selenium.\n",
    "\n",
    "### 2.3 Selenium IDE\n",
    "\n",
    "Ferramenta de gravação e reprodução para testes simples.\n",
    "\n",
    "Funciona como uma extensão do navegador que grava ações do usuário e gera scripts automaticamente.\n",
    "\n",
    "É mais limitada e usada para casos rápidos ou para aprendizado.\n",
    "\n",
    "### 2.4 Selenium Grid\n",
    "\n",
    "Ferramenta para rodar testes em paralelo em múltiplas máquinas, navegadores e plataformas.\n",
    "\n",
    "Permite distribuir a execução dos testes para otimizar tempo e testar em diferentes ambientes simultaneamente."
   ]
  },
  {
   "cell_type": "markdown",
   "id": "085c7e4a",
   "metadata": {},
   "source": [
    "## 🚀 Plano de Aprendizado com Selenium – Módulos, Projetos e Sintaxe"
   ]
  },
  {
   "cell_type": "markdown",
   "id": "eafbf779",
   "metadata": {},
   "source": [
    "### Módulo 1 – Introdução ao Selenium e Automação Básica\n",
    "\n",
    "### **Objetivos**\n",
    "\n",
    "- Configurar ambiente (instalar Selenium, WebDriver).\n",
    "\n",
    "- Abrir navegador e acessar sites.\n",
    "\n",
    "- Localizar elementos básicos (ID, Name).\n",
    "\n",
    "- Realizar ações simples: clicar, digitar texto, submeter formulário.\n",
    "\n",
    "### **Projeto prático**\n",
    "\n",
    "Automatizar uma busca no Google e capturar o título da página."
   ]
  },
  {
   "cell_type": "markdown",
   "id": "991d696d",
   "metadata": {},
   "source": [
    "## 🗺️Módulo 2 – Estratégias de localização de elementos\n",
    "### **Objetivos**\n",
    "\n",
    "Conhecer e praticar diferentes formas de localizar elementos:\n",
    "\n",
    "- ID, Name, Class Name\n",
    "\n",
    "- Tag Name\n",
    "\n",
    "- CSS Selectors\n",
    "\n",
    "- XPath\n",
    "\n",
    "### **Projeto prático**\n",
    "\n",
    "Automatizar um formulário de cadastro simples em um site de teste."
   ]
  },
  {
   "cell_type": "markdown",
   "id": "79b21620",
   "metadata": {},
   "source": [
    "## ⏰Módulo 3 – Esperas (Waits) e manipulação de estados dinâmicos\n",
    "### **Objetivos**\n",
    "\n",
    "- Entender a importância das esperas em automações web.\n",
    "\n",
    "- Implementar esperas implícitas e explícitas.\n",
    "\n",
    "- Tratar carregamento dinâmico de páginas e elementos AJAX.\n",
    "\n",
    "### **Projeto prático**\n",
    "\n",
    "Automatizar login em site que carrega elementos dinamicamente."
   ]
  },
  {
   "cell_type": "markdown",
   "id": "fb58e2ff",
   "metadata": {},
   "source": [
    "## 🖱️Módulo 4 – Interações avançadas\n",
    "### **Objetivos**\n",
    "\n",
    "- Realizar ações complexas como:\n",
    "\n",
    "- Movimentação do mouse (hover, drag and drop)\n",
    "\n",
    "- Teclado (teclas especiais, atalhos)\n",
    "\n",
    "- Manipular alertas, iframes e múltiplas janelas/abas.\n",
    "\n",
    "### **Projeto prático**\n",
    "\n",
    "Automatizar navegação com múltiplas abas e aceitar alertas."
   ]
  },
  {
   "cell_type": "markdown",
   "id": "bfee3ac0",
   "metadata": {},
   "source": [
    "## 📸Módulo 5 – Execução em modo Headless e captura de tela\n",
    "### **Objetivos**\n",
    "\n",
    "- Rodar o navegador sem interface gráfica (headless).\n",
    "\n",
    "- Tirar screenshots em diferentes etapas da automação.\n",
    "\n",
    "- Salvar logs e evidências visuais.\n",
    "\n",
    "### **Projeto prático**\n",
    "\n",
    "Automatizar uma busca e salvar print da página de resultados."
   ]
  },
  {
   "cell_type": "markdown",
   "id": "e790b4ed",
   "metadata": {},
   "source": [
    "## 🖥️Módulo 6 – Web Scraping com Selenium\n",
    "**Objetivos**\n",
    "\n",
    "- Extrair dados de sites dinâmicos.\n",
    "\n",
    "- Navegar por múltiplas páginas (paginação).\n",
    "\n",
    "- Tratar dados coletados (limpeza, armazenamento).\n",
    "\n",
    "**Projeto prático**\n",
    "\n",
    "Extrair citações e autores do site “quotes.toscrape.com” (site de teste)."
   ]
  },
  {
   "cell_type": "markdown",
   "id": "cde73d0a",
   "metadata": {},
   "source": [
    "## ⚒️Módulo 7 – Testes automatizados com frameworks Python\n",
    "**Objetivos**\n",
    "\n",
    "- Integrar Selenium com frameworks de testes como unittest e pytest.\n",
    "\n",
    "- Escrever testes organizados, setup e teardown.\n",
    "\n",
    "- Gerar relatórios simples de testes.\n",
    "\n",
    "**Projeto prático**\n",
    "\n",
    "Criar testes automatizados para o fluxo de login de um site."
   ]
  },
  {
   "cell_type": "markdown",
   "id": "523ea865",
   "metadata": {},
   "source": [
    "## 📝 Módulo 8 – Projeto Final : Realizar um código que envie relatorios por email\n",
    "### **Objetivos**\n",
    "\n",
    "Automatização de tarefas repetitivas e aplicaveis ao dia a dia\n",
    "\n",
    "### **Projeto prático**\n",
    "\n",
    "Criar um script em que envia email automaticos com relatorios de vendas para algúem"
   ]
  }
 ],
 "metadata": {
  "kernelspec": {
   "display_name": "Python 3 (ipykernel)",
   "language": "python",
   "name": "python3"
  },
  "language_info": {
   "codemirror_mode": {
    "name": "ipython",
    "version": 3
   },
   "file_extension": ".py",
   "mimetype": "text/x-python",
   "name": "python",
   "nbconvert_exporter": "python",
   "pygments_lexer": "ipython3",
   "version": "3.9.13"
  }
 },
 "nbformat": 4,
 "nbformat_minor": 5
}
