{
 "cells": [
  {
   "cell_type": "markdown",
   "id": "7225f8dc",
   "metadata": {},
   "source": [
    "# Módulo 2: Operações Básicas com Data Frames\n",
    "\n",
    "Neste módulo, vamos nos concentrar nas operações básicas que podemos realizar em DataFrames com o Pandas. Vamos aprender a ler e escrever arquivos de diferentes formatos, a filtrar dados com base em condições específicas e a manipular os índices dos DataFrames.\n",
    "\n",
    "## Tópicos deste Módulo:\n",
    "\n",
    "- Leitura e Escrita de Arquivos CSV, Excel, JSON e Parquet\n",
    "- Filtragem de Dados com Condições\n",
    "- Manipulação de Índices (set_index, reset_index)\n",
    "\n",
    "---\n",
    "\n",
    "## 1. Leitura e Escrita de Arquivos\n",
    "\n",
    "Pandas facilita a leitura e escrita de diferentes tipos de arquivos. Vamos cobrir os formatos CSV, Excel, JSON e Parquet.\n",
    "\n",
    "### Leitura de Arquivos CSV\n",
    "\n",
    "Para ler um arquivo CSV, usamos o método `pd.read_csv()`:\n",
    "\n",
    "```python\n",
    "import pandas as pd\n",
    "\n",
    "# Leitura de um arquivo CSV\n",
    "df = pd.read_csv('caminho_do_arquivo/arquivo.csv')\n",
    "print(df.head())\n",
    "# Salvando o DataFrame em um arquivo CSV\n",
    "df.to_csv('caminho/para/arquivo_salvo.csv', index=False)\n",
    "\n",
    "```\n",
    "\n",
    "### Leitura de Arquivos Excel\n",
    "\n",
    "Para ler um arquivo CSV, usamos o método `pd.read_excel()`:\n",
    "\n",
    "```python\n",
    "import pandas as pd\n",
    "\n",
    "# Leitura de um arquivo Excel\n",
    "df_excel = pd.read_excel('caminho_do_arquivo/arquivo.xlsx')\n",
    "\n",
    "# Escrita de um arquivo Excel\n",
    "df.to_excel('caminho_do_arquivo/arquivo_salvo.xlsx', index=False)\n",
    "\n",
    "```\n",
    "### Leitura de Arquivos JSON\n",
    "\n",
    "Para ler um arquivo CSV, usamos o método `pd.read_json()`:\n",
    "\n",
    "```python\n",
    "import pandas as pd\n",
    "\n",
    "# Leitura de um arquivo JSON\n",
    "df_json = pd.read_json('caminho_do_arquivo/arquivo.json')\n",
    "\n",
    "# Escrita de um arquivo JSON\n",
    "df.to_json('caminho_do_arquivo/arquivo_salvo.json')\n",
    "```\n",
    "\n",
    "### Notas:\n",
    "\n",
    "Cada tipo específico de formato de arquivo (`.json`, `.xlsl`, `.csv`, `etc...`) tem sua proía leitura, que pode ser consultada na documentação do pandas\n"
   ]
  },
  {
   "cell_type": "markdown",
   "id": "09677598",
   "metadata": {},
   "source": [
    "## Filtragem de Dados com Condições\n",
    "\n",
    "\n",
    "### Filtragem Simples"
   ]
  },
  {
   "cell_type": "code",
   "execution_count": 11,
   "id": "be34d0fc",
   "metadata": {},
   "outputs": [
    {
     "name": "stdout",
     "output_type": "stream",
     "text": [
      "       Nome  Idade          Cidade\n",
      "1     Bruno     35  Rio de Janeiro\n",
      "4   Eduardo     40        Brasília\n",
      "8      Igor     32          Recife\n",
      "9     Joana     31          Manaus\n",
      "12   Marcos     38   Florianópolis\n",
      "14   Otávio     33       São Paulo\n"
     ]
    }
   ],
   "source": [
    "# Selecionar todas as linhas onde a coluna 'idade' é maior que 30\n",
    "import pandas as pd\n",
    "\n",
    "# Criando o DataFrame com 15 elementos\n",
    "df = {\n",
    "    'Nome': ['Ana', 'Bruno', 'Carlos', 'Daniela', 'Eduardo', 'Fernanda', 'Gabriel', 'Helena', 'Igor', 'Joana', \n",
    "             'Kleber', 'Laura', 'Marcos', 'Nina', 'Otávio'],\n",
    "    'Idade': [23, 35, 22, 28, 40, 30, 25, 27, 32, 31, 29, 24, 38, 26, 33],\n",
    "    'Cidade': ['São Paulo', 'Rio de Janeiro', 'Curitiba', 'Salvador', 'Brasília', 'Fortaleza', 'Belo Horizonte',\n",
    "               'Porto Alegre', 'Recife', 'Manaus', 'Belém', 'Goiânia', 'Florianópolis', 'Campo Grande', 'São Paulo']\n",
    "}\n",
    "\n",
    "df = pd.DataFrame(df)\n",
    "\n",
    "\n",
    "df_filtrado = df[df['Idade'] > 30]\n",
    "print(df_filtrado)"
   ]
  },
  {
   "cell_type": "markdown",
   "id": "68329c3d",
   "metadata": {},
   "source": [
    "### Filtragem com Múltiplas Condições\n",
    "\n",
    "- Você pode combinar condições usando operadores lógicos (`&`, `|`):"
   ]
  },
  {
   "cell_type": "code",
   "execution_count": 12,
   "id": "c6d8f928",
   "metadata": {},
   "outputs": [
    {
     "name": "stdout",
     "output_type": "stream",
     "text": [
      "      Nome  Idade     Cidade\n",
      "14  Otávio     33  São Paulo\n"
     ]
    }
   ],
   "source": [
    "# Selecionar linhas onde a idade é maior que 30 e a cidade é 'São Paulo'\n",
    "\n",
    "\n",
    "df_filtrado = df[(df['Idade'] > 30) & (df['Cidade'] == 'São Paulo')]\n",
    "print(df_filtrado)"
   ]
  },
  {
   "cell_type": "markdown",
   "id": "174ea747",
   "metadata": {},
   "source": [
    "## Manipulação de Índices\n",
    "\n",
    "- Os índices no Pandas ajudam a organizar os dados. Você pode definir ou redefinir o índice de um DataFrame.\n",
    "\n",
    "### Definir um Índice com `set_index()`\n",
    "\n",
    " - O método `set_index()` define uma coluna como o índice do DataFrame:"
   ]
  },
  {
   "cell_type": "code",
   "execution_count": 14,
   "id": "6896be7a",
   "metadata": {},
   "outputs": [
    {
     "name": "stdout",
     "output_type": "stream",
     "text": [
      "         Idade          Cidade\n",
      "Nome                          \n",
      "Ana         23       São Paulo\n",
      "Bruno       35  Rio de Janeiro\n",
      "Carlos      22        Curitiba\n",
      "Daniela     28        Salvador\n",
      "Eduardo     40        Brasília\n"
     ]
    }
   ],
   "source": [
    "# Definir a coluna 'nome' como índice\n",
    "df_indexado = df.set_index('Nome')\n",
    "print(df_indexado.head())"
   ]
  },
  {
   "cell_type": "markdown",
   "id": "4da483d4",
   "metadata": {},
   "source": [
    "### Redefinir o Índice com reset_index()\n",
    "- Se você quiser transformar o índice de volta em uma coluna, use `reset_index()`:"
   ]
  },
  {
   "cell_type": "code",
   "execution_count": 15,
   "id": "77d8d90b",
   "metadata": {},
   "outputs": [
    {
     "name": "stdout",
     "output_type": "stream",
     "text": [
      "      Nome  Idade          Cidade\n",
      "0      Ana     23       São Paulo\n",
      "1    Bruno     35  Rio de Janeiro\n",
      "2   Carlos     22        Curitiba\n",
      "3  Daniela     28        Salvador\n",
      "4  Eduardo     40        Brasília\n"
     ]
    }
   ],
   "source": [
    "# Resetar o índice, tornando-o uma coluna normal novamente\n",
    "df_resetado = df_indexado.reset_index()\n",
    "print(df_resetado.head())"
   ]
  },
  {
   "cell_type": "markdown",
   "id": "8686edfd",
   "metadata": {},
   "source": [
    "# Exercício: Operações Básicas com DataFrames\n",
    "\n",
    "Neste exercício, você aplicará os conceitos de leitura, filtragem de dados e manipulação de índices que aprendeu no Módulo 2.\n",
    "\n",
    "## Instruções\n",
    "\n",
    "### Parte 1: Abrir um DataFrame\n",
    "1. ler o arquivo `mod2arq.csv` com as seguintes colunas:\n",
    "   - **Nome**: Lista com 15 nomes de pessoas.\n",
    "   - **Idade**: Lista com 15 idades correspondentes.\n",
    "   - **Cidade**: Lista com 15 cidades diferentes.\n",
    "   \n",
    "Observação: passar o caminho correto em que o arquivo está e se atentar de realizar a leitura certa baseada em sua extensão\n",
    "   \n",
    "### Parte 2: Filtrar os Dados\n",
    "1. Selecione todas as linhas onde a coluna **Idade** seja maior que 30.\n",
    "2. Exiba o DataFrame filtrado.\n",
    "\n",
    "### Parte 3: Manipulação de Índices\n",
    "1. Defina a coluna **Nome** e **Idade** como o índice do DataFrame.\n",
    "2. Resete o índice, transformando-o novamente em uma coluna normal.\n",
    "\n",
    "\n",
    "\n",
    "\n"
   ]
  },
  {
   "cell_type": "code",
   "execution_count": 30,
   "id": "b22ed8b5",
   "metadata": {},
   "outputs": [],
   "source": [
    "#insira o código abaixo"
   ]
  }
 ],
 "metadata": {
  "kernelspec": {
   "display_name": "Python 3 (ipykernel)",
   "language": "python",
   "name": "python3"
  },
  "language_info": {
   "codemirror_mode": {
    "name": "ipython",
    "version": 3
   },
   "file_extension": ".py",
   "mimetype": "text/x-python",
   "name": "python",
   "nbconvert_exporter": "python",
   "pygments_lexer": "ipython3",
   "version": "3.11.5"
  }
 },
 "nbformat": 4,
 "nbformat_minor": 5
}
