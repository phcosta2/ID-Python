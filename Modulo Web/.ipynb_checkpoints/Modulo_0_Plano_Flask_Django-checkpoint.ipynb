{
 "cells": [
  {
   "cell_type": "markdown",
   "id": "71d17d2d",
   "metadata": {},
   "source": [
    "# Módulo 0 — Plano do Módulo: Flask & Django (introdução prática)\n",
    "\n",
    "> **Objetivo:** apresentar a trilha do curso (apenas o básico de Flask e Django) e como os próximos módulos estarão organizados.\n",
    ">\n",
    "> **Público-alvo:** quem já sabe o básico de Python (funções, pacotes, venv) e quer dar os primeiros passos na web.\n",
    ">\n",
    "> **Formato:** notebooks curtos, com explicação direta + pequenos exercícios de fixação.\n"
   ]
  },
  {
   "cell_type": "markdown",
   "id": "46808d0e",
   "metadata": {},
   "source": [
    "## Como usar este material\n",
    "\n",
    "- Leia cada seção e execute os blocos de código quando existirem.\n",
    "- Os módulos **1 a 6** focam no essencial para começar com Flask e Django.\n",
    "- Exemplos usam **Python 3.10+** e **SQLite**.\n",
    "- Sistema operacional: Windows, macOS ou Linux — o processo é similar.\n",
    "- Data de geração deste plano: **11/08/2025**.\n"
   ]
  },
  {
   "cell_type": "markdown",
   "id": "4bad36af",
   "metadata": {},
   "source": [
    "## Pré‑requisitos rápidos\n",
    "\n",
    "- Python instalado (`python --version` >= 3.10).\n",
    "- Saber criar e ativar um ambiente virtual:\n",
    "  - Windows: `python -m venv .venv` e depois `.venv\\Scripts\\activate`\n",
    "  - macOS/Linux: `python -m venv .venv` e depois `source .venv/bin/activate`\n",
    "- Noções básicas de terminal, pastas e arquivos.\n",
    "- (Opcional) Git instalado para versionar os projetos.\n"
   ]
  },
  {
   "cell_type": "markdown",
   "id": "ec115163",
   "metadata": {},
   "source": [
    "## Estrutura do curso (visão geral)\n",
    "\n",
    "- **Trilha curta** e **mão na massa**.\n",
    "- Cada módulo indica: *o que você vai aprender*, *o que vai construir* e *exercícios*.\n",
    "- Conteúdo **essencial** (sem aprofundar em temas avançados).\n"
   ]
  },
  {
   "cell_type": "markdown",
   "id": "9be46b55",
   "metadata": {},
   "source": [
    "---\n",
    "## Módulo 1 — Fundamentos Web + Setup (para Flask & Django)\n",
    "\n",
    "**Você vai aprender**\n",
    "- O que é HTTP: requisição, resposta e códigos de status.\n",
    "- Estrutura mínima de uma aplicação web.\n",
    "- Templates e renderização (conceito de Jinja).\n",
    "- JSON no backend.\n",
    "- Preparar ambiente (venv), instalar pacotes e organizar pastas.\n",
    "\n",
    "**Você vai construir**\n",
    "- Um pequeno “Hello, Web” que retorna HTML e JSON (sem framework).\n",
    "\n",
    "**Exercícios**\n",
    "- Criar uma função que formata uma resposta HTML com seu nome.\n",
    "- Retornar um dicionário Python como JSON usando `json.dumps`.\n"
   ]
  },
  {
   "cell_type": "markdown",
   "id": "867c79a6",
   "metadata": {},
   "source": [
    "---\n",
    "## Módulo 2 — Flask Essencial (o microframework)\n",
    "\n",
    "**Você vai aprender**\n",
    "- Criar um projeto Flask mínimo.\n",
    "- Rotas (`@app.route`), parâmetros de rota e query string.\n",
    "- Templates (Jinja2) e arquivos estáticos.\n",
    "- Formulário simples (POST) e leitura de dados do usuário.\n",
    "- Resposta JSON rápida em Flask.\n",
    "\n",
    "**Você vai construir**\n",
    "- Mini site com 2 páginas: Home e Contato (formulário).\n",
    "- Uma rota `/api/ping` que retorna `{\"status\": \"ok\"}`.\n",
    "\n",
    "**Exercícios**\n",
    "- Adicionar uma rota com parâmetro (`/saudacao/<nome>`).\n",
    "- Criar um template que herda um `base.html`.\n"
   ]
  },
  {
   "cell_type": "markdown",
   "id": "9629acf1",
   "metadata": {},
   "source": [
    "---\n",
    "## Módulo 3 — Django Essencial (o “batteries‑included”)\n",
    "\n",
    "**Você vai aprender**\n",
    "- `django-admin startproject` e `manage.py startapp`.\n",
    "- Configurações básicas (`settings.py`) e URLs.\n",
    "- Views, Templates e ORM de forma introdutória.\n",
    "- Admin do Django (criar superuser).\n",
    "\n",
    "**Você vai construir**\n",
    "- Projeto `mysite` com app `core`.\n",
    "- Página Home que lista itens de exemplo (sem banco no início).\n",
    "- Acessar o painel `/admin/`.\n",
    "\n",
    "**Exercícios**\n",
    "- Criar uma nova view e mapear em `urls.py`.\n",
    "- Personalizar o template base com um título do projeto.\n"
   ]
  },
  {
   "cell_type": "markdown",
   "id": "255b9241",
   "metadata": {},
   "source": [
    "---\n",
    "## Módulo 4 — Persistência básica: SQLite e ORM (Flask & Django)\n",
    "\n",
    "**Você vai aprender**\n",
    "- Como salvar dados usando ORM básico em cada framework.\n",
    "- **Flask**: SQLAlchemy + migrações com Flask‑Migrate (no mínimo para funcionar).\n",
    "- **Django**: criar `models`, fazer `makemigrations` e `migrate`.\n",
    "\n",
    "**Você vai construir**\n",
    "- **Flask**: um model simples (`Task`) e duas rotas para criar/listar itens.\n",
    "- **Django**: um model `Task`, registro no admin e listagem na Home.\n",
    "\n",
    "**Exercícios**\n",
    "- Adicionar um campo booleano `done` à `Task` e exibir na tela.\n",
    "- Criar um formulário simples para adicionar nova `Task`.\n"
   ]
  },
  {
   "cell_type": "markdown",
   "id": "d3aedc4c",
   "metadata": {},
   "source": [
    "---\n",
    "## Módulo 5 — CRUD básico (separado: um em Flask, outro em Django)\n",
    "\n",
    "**Você vai aprender**\n",
    "- Padrão CRUD (Create, Read, Update, Delete) no essencial.\n",
    "- **Flask**: rotas para criar, marcar como concluído e excluir.\n",
    "- **Django**: ListView, CreateView e UpdateView (introdução a CBVs) ou views funcionais.\n",
    "\n",
    "**Você vai construir**\n",
    "- **Flask**: lista de tarefas com botões de concluir/excluir.\n",
    "- **Django**: lista de tarefas com formulário de criação.\n",
    "\n",
    "**Exercícios**\n",
    "- Adicionar paginação simples (Django) ou filtro de itens (Flask).\n",
    "- Mostrar contadores (quantas tarefas totais e concluídas).\n"
   ]
  },
  {
   "cell_type": "markdown",
   "id": "cbc62c9a",
   "metadata": {},
   "source": [
    "---\n",
    "## Módulo 6 — Respostas JSON e “mini‑API” (básico de API, sem aprofundar)\n",
    "\n",
    "**Você vai aprender**\n",
    "- Retornar JSON nos dois frameworks.\n",
    "- Noções de status code e headers.\n",
    "\n",
    "**Você vai construir**\n",
    "- **Flask**: `/api/tasks` (GET) que retorna a lista em JSON.\n",
    "- **Django**: view que retorna `JsonResponse` com um objeto de exemplo.\n",
    "\n",
    "**Exercícios**\n",
    "- Criar uma rota que filtre tarefas por `done=true` e retorne JSON.\n",
    "- Adicionar um campo `created_at` e enviá-lo no JSON.\n"
   ]
  },
  {
   "cell_type": "markdown",
   "id": "3a3d1e24",
   "metadata": {},
   "source": [
    "---\n",
    "## Extras (opcionais, fora do escopo básico)\n",
    "- Autenticação mínima:\n",
    "  - **Flask**: `Flask-Login` para login/logout.\n",
    "  - **Django**: `django.contrib.auth` (login/logout e `@login_required`).\n",
    "- Organização de projeto (Blueprints no Flask; múltiplos apps no Django).\n",
    "- Estática e templates com layout responsivo (Bootstrap/Tailwind).\n",
    "\n",
    "> Estes tópicos são úteis, mas **não essenciais** para os primeiros passos.\n"
   ]
  },
  {
   "cell_type": "markdown",
   "id": "d6050362",
   "metadata": {},
   "source": [
    "## Checklist do estudante (antes de iniciar o Módulo 1)\n",
    "- [ ] Consigo criar/ativar uma `venv`.\n",
    "- [ ] Sei instalar pacotes com `pip`.\n",
    "- [ ] Rodar um arquivo `hello.py` no terminal.\n",
    "- [ ] Entendo o que é uma rota e um template (em alto nível).\n"
   ]
  },
  {
   "cell_type": "markdown",
   "id": "c02e28cc",
   "metadata": {},
   "source": [
    "## Próximos passos\n",
    "- Abra o **Módulo 1 — Fundamentos Web + Setup**.\n",
    "- Siga as instruções e execute os exemplos.\n",
    "- Em cada módulo, conclua os **exercícios** ao final.\n"
   ]
  },
  {
   "cell_type": "code",
   "execution_count": null,
   "id": "ab559736",
   "metadata": {},
   "outputs": [],
   "source": [
    "import sys; print('Versão do Python:', sys.version)"
   ]
  }
 ],
 "metadata": {},
 "nbformat": 4,
 "nbformat_minor": 5
}
