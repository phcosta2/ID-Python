{
 "cells": [
  {
   "cell_type": "markdown",
   "id": "bf89b9aa-b4b8-46dd-86d1-15188fd04a87",
   "metadata": {},
   "source": [
    "## ⏰ Módulo 3 – Esperas (Waits) e Manipulação de Estados Dinâmicos\n",
    "\n",
    "Páginas web modernas carregam conteúdo dinamicamente (com JavaScript/AJAX). Se o seu script tentar interagir com um elemento que ainda não apareceu na tela, ele falhará. Usar `time.sleep()` é uma má prática, pois torna o código lento e instável.\n",
    "\n",
    "A solução correta é usar as **esperas** do Selenium, que pausam o script até que uma determinada condição seja atendida.\n",
    "\n",
    "### **Objetivos**\n",
    "\n",
    "- Entender a importância das esperas em automações web.\n",
    "- **Espera Implícita (Implicit Wait):** Define um tempo máximo global que o WebDriver deve esperar ao tentar encontrar um elemento. É simples, mas menos flexível.\n",
    "- **Espera Explícita (Explicit Wait):** A abordagem recomendada. Pausa a execução por um tempo determinado até que uma condição específica seja verdadeira (ex: o elemento se tornou clicável, ficou visível, etc.).\n",
    "- Tratar carregamento dinâmico de páginas e elementos AJAX.\n",
    "\n",
    "### **Sintaxe Básica (Espera Explícita)**\n",
    "```python\n",
    "from selenium.webdriver.support.ui import WebDriverWait\n",
    "from selenium.webdriver.support import expected_conditions as EC\n",
    "from selenium.webdriver.common.by import By\n",
    "\n",
    "# Cria um objeto de espera com timeout de 10 segundos\n",
    "wait = WebDriverWait(driver, 10)\n",
    "\n",
    "# Espera até que o elemento com o ID 'meuElemento' esteja visível\n",
    "elemento_visivel = wait.until(\n",
    "    EC.visibility_of_element_located((By.ID, 'meuElemento'))\n",
    ")\n",
    "\n",
    "# Espera até que o botão seja clicável\n",
    "botao_clicavel = wait.until(\n",
    "    EC.element_to_be_clickable((By.CSS_SELECTOR, '.btn-primary'))\n",
    ")"
   ]
  },
  {
   "cell_type": "markdown",
   "id": "2545c52d-7306-42ef-849b-5920707d1267",
   "metadata": {},
   "source": [
    "### Projeto Prático: Automatizar login em site que carrega elementos dinamicamente\n",
    "Vamos usar o site de testes \"The-Internet\" (https://the-internet.herokuapp.com/dynamic_loading/1)<br>Neste exemplo, o elemento \"Hello World!\" só aparece depois de um carregamento. Precisamos esperar que ele fique visível antes de tentar interagir."
   ]
  },
  {
   "cell_type": "code",
   "execution_count": 1,
   "id": "82e0fabd-cdb8-472d-856d-55d09bdab20b",
   "metadata": {},
   "outputs": [
    {
     "name": "stdout",
     "output_type": "stream",
     "text": [
      "Botão Start clicado. Aguardando elemento aparecer...\n",
      "Texto encontrado: \"Hello World!\"\n"
     ]
    }
   ],
   "source": [
    "from selenium import webdriver\n",
    "from selenium.webdriver.common.by import By\n",
    "from selenium.webdriver.support.ui import WebDriverWait\n",
    "from selenium.webdriver.support import expected_conditions as EC\n",
    "\n",
    "driver = webdriver.Chrome()\n",
    "driver.get('https://the-internet.herokuapp.com/dynamic_loading/1')\n",
    "\n",
    "# Localiza o botão 'Start' e clica nele\n",
    "start_button = driver.find_element(By.CSS_SELECTOR, '#start button')\n",
    "start_button.click()\n",
    "print('Botão Start clicado. Aguardando elemento aparecer...')\n",
    "\n",
    "# --- Implementando a Espera Explícita ---\n",
    "# Cria um objeto de espera com timeout de 10 segundos\n",
    "wait = WebDriverWait(driver, 10)\n",
    "\n",
    "# Define a condição: esperar até que o elemento com ID 'finish' esteja visível\n",
    "finish_element = wait.until(\n",
    "    EC.visibility_of_element_located((By.ID, 'finish'))\n",
    ")\n",
    "\n",
    "# Assim que o elemento estiver visível, o código continua.\n",
    "# Agora podemos extrair o texto com segurança.\n",
    "texto_resultado = finish_element.text\n",
    "print(f'Texto encontrado: \"{texto_resultado}\"')\n",
    "\n",
    "# Fecha o navegador\n",
    "driver.quit()"
   ]
  }
 ],
 "metadata": {
  "kernelspec": {
   "display_name": "Python 3 (ipykernel)",
   "language": "python",
   "name": "python3"
  },
  "language_info": {
   "codemirror_mode": {
    "name": "ipython",
    "version": 3
   },
   "file_extension": ".py",
   "mimetype": "text/x-python",
   "name": "python",
   "nbconvert_exporter": "python",
   "pygments_lexer": "ipython3",
   "version": "3.12.3"
  }
 },
 "nbformat": 4,
 "nbformat_minor": 5
}
