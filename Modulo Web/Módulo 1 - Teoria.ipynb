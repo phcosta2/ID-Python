{
 "cells": [
  {
   "cell_type": "markdown",
   "id": "e4332ff2-a97f-4643-97a1-15526b53ec8b",
   "metadata": {},
   "source": [
    "# Módulo 1 — Teoria: Web com Flask & Django (conceitos essenciais)\n",
    "\n",
    "Objetivo: entender o que são Flask e Django através de pesquisas web, quando usar cada um, seus componentes, arquitetura, segurança, testes e visão geral de deploy.\n",
    "Escopo: conteúdos e palavras chaves para pesquisa sobre o que são frameworks web.<br>\n",
    "Sem código neste módulo."
   ]
  },
  {
   "cell_type": "markdown",
   "id": "d6f3d084-fc73-4efb-9fb5-53821e161349",
   "metadata": {},
   "source": [
    "## Para quem é este módulo\n",
    "\n",
    "Estudantes que já conhecem Python básico e querem entrar no desenvolvimento web."
   ]
  },
  {
   "cell_type": "markdown",
   "id": "b242ef49-e4c1-4cb7-ba3c-83af5a60ff51",
   "metadata": {},
   "source": [
    "### O que é um framework web\n",
    "\n",
    "Um framework web é um conjunto de ferramentas e convenções para construir aplicações que respondem a requisições HTTP. Ele ajuda a lidar com rotas, templates, banco de dados, segurança etc."
   ]
  },
  {
   "cell_type": "markdown",
   "id": "4170cdd9-2ae8-47ec-a52e-ed02a589abee",
   "metadata": {},
   "source": [
    "### Conceitos-chave da Web\n",
    "\n",
    "Cliente ↔ Servidor: navegador (cliente) → requisição → servidor → resposta (HTML/JSON/arquivo).\n",
    "\n",
    "HTTP: métodos (GET/POST/PUT/DELETE), status (200/404/500…), headers, corpo.\n",
    "\n",
    "WSGI/ASGI: padrões que conectam o servidor web à sua app Python.\n",
    "\n",
    "WSGI: modelo síncrono tradicional.\n",
    "\n",
    "ASGI: modelo assíncrono (suporta WebSockets e async/await).\n",
    "\n",
    "Micro x “baterias incluídas”: alguns frameworks fornecem só o núcleo e deixam escolhas para você (micro). Outros já trazem “meio caminho andado”."
   ]
  },
  {
   "cell_type": "markdown",
   "id": "3f180144-40be-441c-bb49-058480b9166e",
   "metadata": {},
   "source": [
    "### Flask em poucas palavras\n",
    "\n",
    "Filosofia: microframework. Entrega o essencial (roteamento, templates via Jinja2, contexto de requisição). Você escolhe extensões para ORM, auth, formulários, migrações etc.\n",
    "\n",
    "Componentes base:\n",
    "Werkzeug (WSGI/utilitários) e Jinja2 (templates).\n",
    "\n",
    "Conceitos importantes:\n",
    "\n",
    "Aplicação Flask: objeto central com rotas e configs.\n",
    "\n",
    "Roteamento: URLs mapeadas para funções (views).\n",
    "\n",
    "Blueprints: organização modular de rotas/recursos.\n",
    "\n",
    "Extensões: SQLAlchemy (ORM), Flask-Login (auth), Flask-Migrate (migrações), Flask-WTF (forms/CSRF), etc.\n",
    "\n",
    "App Factory: função create_app() para criar/configurar a app (facilita testes/ambientes).\n",
    "\n",
    "Quando usar Flask: projetos pequenos/médios, APIs, MVPs com flexibilidade e baixo boilerplate.\n",
    "\n",
    "Pontos fortes: simples, enxuto, fácil de entender “por dentro”, altamente extensível.\n",
    "\n",
    "Atenções: mais decisões arquiteturais por sua conta; recursos como admin e auth completo dependem de extensões."
   ]
  },
  {
   "cell_type": "markdown",
   "id": "3bedb176-9894-4882-ac82-71248c580352",
   "metadata": {},
   "source": [
    "### Django em poucas palavras\n",
    "\n",
    "Filosofia: batteries-included. Traz um conjunto amplo de recursos nativos.\n",
    "\n",
    "Arquitetura MVT: Model–View–Template (variação do MVC).\n",
    "\n",
    "Model: camada de dados (ORM do Django).\n",
    "\n",
    "View: lógica que prepara dados (função ou classe: FBV/CBV).\n",
    "\n",
    "Template: apresentação (engine própria).\n",
    "\n",
    "Componentes nativos relevantes:\n",
    "\n",
    "ORM robusto e migrações integradas.\n",
    "\n",
    "Admin automático (painel CRUD).\n",
    "\n",
    "Auth (usuários/grupos/permissões), Forms, Middlewares, i18n, cache, sessions.\n",
    "\n",
    "Estrutura: projeto com múltiplos apps reusáveis; manage.py para comandos comuns.\n",
    "\n",
    "Quando usar Django: projetos médios/grandes ou que pedem produtividade, padronização e recursos prontos.\n",
    "\n",
    "Pontos fortes: produtividade alta, convenções sólidas, segurança e boas práticas por padrão.\n",
    "\n",
    "Atenções: curva inicial maior; estrutura mais opinionada."
   ]
  },
  {
   "cell_type": "markdown",
   "id": "90aa2743-a2a5-4ac3-ae2c-9b6a87645d02",
   "metadata": {},
   "source": [
    "### MVC x MVT (e onde entram Flask e Django)\n",
    "\n",
    "MVC (Model–View–Controller): separa dados, visualização e controle.\n",
    "\n",
    "MVT (Model–View–Template) do Django: o Template assume o papel da View do MVC clássico; a View do Django faz boa parte do “controle”.\n",
    "\n",
    "Flask não impõe arquitetura rígida, mas é comum usar blueprints e separar camadas (models/serviços/views)."
   ]
  },
  {
   "cell_type": "markdown",
   "id": "fbe0d29f-75fa-47c1-9288-3bddac76af6f",
   "metadata": {},
   "source": [
    "### Componentes comuns e diferenças\n",
    "\n",
    "### Roteamento\n",
    "\n",
    "Flask: decoradores @app.route e Blueprints.\n",
    "\n",
    "Django: urls.py por projeto/app.\n",
    "\n",
    "### Templates\n",
    "\n",
    "Flask: Jinja2 (expressivo e popular).\n",
    "\n",
    "Django: Django Template Language (segura por padrão; filtros/tags próprias).\n",
    "\n",
    "### ORM e Banco\n",
    "\n",
    "Flask: normalmente SQLAlchemy (extensão); migrações com Alembic/Flask-Migrate.\n",
    "\n",
    "Django: ORM nativo com makemigrations/migrate.\n",
    "\n",
    "### Admin/Backoffice\n",
    "\n",
    "Flask: via extensões/implementação própria.\n",
    "\n",
    "Django: admin pronto (grande ganho de tempo).\n",
    "\n",
    "### Autenticação/Autorização\n",
    "\n",
    "Flask: extensões (Flask-Login, Flask-Security-Too…).\n",
    "\n",
    "Django: auth nativo (usuários, grupos, permissões, sessões).\n",
    "\n",
    "### Middlewares\n",
    "\n",
    "Flask: suporte via Werkzeug/extensões; menos central.\n",
    "\n",
    "Django: middlewares primeira classe (segurança, sessão, locale…).\n",
    "\n",
    "### Assíncrono\n",
    "\n",
    "Flask: historicamente WSGI; suporte async crescendo.\n",
    "\n",
    "Django: ASGI consolidado (views async; Channels para WebSockets)."
   ]
  },
  {
   "cell_type": "markdown",
   "id": "01d3ee04-e5d8-412d-9df7-0ea4e631d2af",
   "metadata": {},
   "source": [
    "### Segurança (visão geral)\n",
    "\n",
    "- CSRF: token anti-falsificação de requisições.\n",
    "\n",
    "Flask: normalmente via Flask-WTF.\n",
    "\n",
    "Django: CSRF por middleware/template tag.\n",
    "\n",
    "- XSS: templates fazem escape por padrão (cuidado com safe).\n",
    "\n",
    "- SQL Injection: use ORM e parâmetros; evite string de SQL na mão.\n",
    "\n",
    "- Headers de segurança: HSTS, X-Frame-Options, CSP, etc.\n",
    "\n",
    "- Segredos e configuração: não comitar SECRET_KEY/tokens; usar variáveis de ambiente.\n",
    "\n",
    "- Debug em produção: desativar (e configurar ALLOWED_HOSTS no Django)."
   ]
  },
  {
   "cell_type": "markdown",
   "id": "84adae9d-4930-47f3-bdd4-6578882d7231",
   "metadata": {},
   "source": [
    "### Testes e qualidade\n",
    "\n",
    "Por que testar? Confiança para evoluir o sistema.\n",
    "\n",
    "Flask: pytest + test client do Flask.\n",
    "\n",
    "Django: django.test.TestCase, client de testes, fixtures.\n",
    "\n",
    "### Qualidade: cobertura (coverage), lint (ruff/flake8), format (black/isort).\n",
    "\n",
    "### CI: rodar testes a cada commit/PR."
   ]
  },
  {
   "cell_type": "markdown",
   "id": "e6693dcf-4151-4baf-92e3-7008ba901341",
   "metadata": {},
   "source": [
    "### Leituras recomendadas\n",
    "\n",
    "Documentação oficial do Flask (conceitos, blueprints, contexto de app/req).\n",
    "\n",
    "https://flask.palletsprojects.com/en/stable/\n",
    "\n",
    "\n",
    "Documentação oficial do Django (tutorial, MVT, ORM, segurança).\n",
    "\n",
    "https://docs.djangoproject.com/en/5.2/\n",
    "\n"
   ]
  }
 ],
 "metadata": {
  "kernelspec": {
   "display_name": "Python [conda env:base]",
   "language": "python",
   "name": "conda-base-py"
  },
  "language_info": {
   "codemirror_mode": {
    "name": "ipython",
    "version": 3
   },
   "file_extension": ".py",
   "mimetype": "text/x-python",
   "name": "python",
   "nbconvert_exporter": "python",
   "pygments_lexer": "ipython3",
   "version": "3.12.3"
  }
 },
 "nbformat": 4,
 "nbformat_minor": 5
}
