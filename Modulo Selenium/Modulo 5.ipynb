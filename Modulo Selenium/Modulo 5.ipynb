{
 "cells": [
  {
   "cell_type": "markdown",
   "id": "e5531240-9e14-4c25-9be1-283b7dab0f2b",
   "metadata": {},
   "source": [
    "## 📸 Módulo 5 – Execução em Modo Headless e Captura de Tela\n",
    "\n",
    "**Modo Headless** é a capacidade de executar um navegador em um ambiente sem interface gráfica (GUI). É extremamente útil para automações em servidores, pipelines de CI/CD ou para rodar scripts mais rapidamente, já que o navegador não precisa renderizar a parte visual.\n",
    "\n",
    "Além disso, salvar capturas de tela (`screenshots`) é fundamental para depurar falhas, gerar evidências de testes ou registrar o estado de uma página em um momento específico.\n",
    "\n",
    "### **Objetivos**\n",
    "\n",
    "- Configurar e rodar o navegador em modo **headless**.\n",
    "- Tirar **screenshots** em diferentes etapas da automação.\n",
    "- Salvar logs e evidências visuais para análise posterior.\n",
    "\n",
    "### **Sintaxe Básica**\n",
    "```python\n",
    "from selenium.webdriver.chrome.options import Options\n",
    "\n",
    "# Configurar opções do Chrome\n",
    "chrome_options = Options()\n",
    "chrome_options.add_argument('--headless')\n",
    "chrome_options.add_argument('--window-size=1920,1080') # Recomendado para headless\n",
    "\n",
    "# Inicializar o driver com as opções\n",
    "driver = webdriver.Chrome(options=chrome_options)\n",
    "\n",
    "# Capturar a tela e salvar em um arquivo\n",
    "driver.save_screenshot('nome_do_arquivo.png')"
   ]
  },
  {
   "cell_type": "markdown",
   "id": "8bf84f2d-055b-47fa-a63c-bb5ae8b67710",
   "metadata": {},
   "source": [
    "### Projeto Prático: Automatizar uma busca e salvar print da página de resultados\n",
    "Vamos criar um script que:\n",
    "\n",
    "- Roda o Chrome em modo headless.\n",
    "\n",
    "- Acessa o Google.\n",
    "\n",
    "- Pesquisa por \"Inteligência Artificial\".\n",
    "\n",
    "- Salva uma captura de tela da página de resultados."
   ]
  },
  {
   "cell_type": "code",
   "execution_count": 5,
   "id": "4de00e87-b2d8-4a18-b68e-4a3b0cffab62",
   "metadata": {},
   "outputs": [
    {
     "name": "stdout",
     "output_type": "stream",
     "text": [
      "Opções do Chrome para modo headless configuradas.\n",
      "Driver inicializado em modo headless.\n",
      "Acessando: Google\n",
      "Botão de cookies não encontrado, continuando...\n",
      "Pesquisa realizada.\n",
      "Screenshot salvo como: pagina_resultados_ia.png\n",
      "Navegador fechado.\n"
     ]
    }
   ],
   "source": [
    "from selenium import webdriver\n",
    "from selenium.webdriver.common.by import By\n",
    "from selenium.webdriver.common.keys import Keys\n",
    "from selenium.webdriver.chrome.options import Options\n",
    "from time import sleep\n",
    "\n",
    "# 1. Configurando o modo headless\n",
    "chrome_options = Options()\n",
    "chrome_options.add_argument('--headless')\n",
    "chrome_options.add_argument('--window-size=1920,1080') # Define o tamanho da janela virtual\n",
    "print('Opções do Chrome para modo headless configuradas.')\n",
    "\n",
    "# Inicializa o driver com as opções configuradas\n",
    "driver = webdriver.Chrome(options=chrome_options)\n",
    "print('Driver inicializado em modo headless.')\n",
    "\n",
    "# 2. Acessa o Google\n",
    "driver.get('https://www.google.com')\n",
    "print(f'Acessando: {driver.title}')\n",
    "\n",
    "# 3. Realiza a pesquisa\n",
    "# Tenta aceitar os cookies se o botão existir\n",
    "try:\n",
    "    # Este seletor pode mudar dependendo da sua região/idioma\n",
    "    driver.find_element(By.XPATH, '//div[text()=\"Aceitar tudo\"]').click()\n",
    "except:\n",
    "    print('Botão de cookies não encontrado, continuando...')\n",
    "\n",
    "campo_busca = driver.find_element(By.NAME, 'q')\n",
    "campo_busca.send_keys('Inteligência Artificial')\n",
    "campo_busca.send_keys(Keys.RETURN)\n",
    "sleep(2) # Espera a página de resultados carregar\n",
    "print('Pesquisa realizada.')\n",
    "\n",
    "# 4. Salva a captura de tela\n",
    "nome_arquivo = 'pagina_resultados_ia.png'\n",
    "driver.save_screenshot(nome_arquivo)\n",
    "print(f'Screenshot salvo como: {nome_arquivo}')\n",
    "\n",
    "# Fecha o navegador\n",
    "driver.quit()\n",
    "print('Navegador fechado.')"
   ]
  }
 ],
 "metadata": {
  "kernelspec": {
   "display_name": "Python 3 (ipykernel)",
   "language": "python",
   "name": "python3"
  },
  "language_info": {
   "codemirror_mode": {
    "name": "ipython",
    "version": 3
   },
   "file_extension": ".py",
   "mimetype": "text/x-python",
   "name": "python",
   "nbconvert_exporter": "python",
   "pygments_lexer": "ipython3",
   "version": "3.12.3"
  }
 },
 "nbformat": 4,
 "nbformat_minor": 5
}
