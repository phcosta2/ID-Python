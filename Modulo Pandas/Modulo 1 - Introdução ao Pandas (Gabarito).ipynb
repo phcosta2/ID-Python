{
 "cells": [
  {
   "cell_type": "markdown",
   "id": "b9d7fb50",
   "metadata": {},
   "source": [
    "# Modulo 1 - Introdução ao Pandas\n"
   ]
  },
  {
   "cell_type": "markdown",
   "id": "acdbb653",
   "metadata": {},
   "source": [
    "##  - Instalação e Importação do Pandas\n",
    "\n"
   ]
  },
  {
   "cell_type": "code",
   "execution_count": 2,
   "id": "aec268bd",
   "metadata": {},
   "outputs": [],
   "source": [
    "## 1. Instalação e Importação do Pandas\n",
    "\n",
    "#Caso ainda não tenha o pandas instalado, você pode instalá-lo com o seguinte comando:\n",
    "\n",
    "# ``` bash ou cmd\n",
    "#!pip install pandas\n",
    "\n",
    "import pandas as pd\n"
   ]
  },
  {
   "cell_type": "markdown",
   "id": "6a712b06",
   "metadata": {},
   "source": [
    "## - Estruturas de Dados Básicas"
   ]
  },
  {
   "cell_type": "markdown",
   "id": "7a183cc6",
   "metadata": {},
   "source": [
    "### Series"
   ]
  },
  {
   "cell_type": "markdown",
   "id": "e30898ba",
   "metadata": {},
   "source": [
    "- Uma Series é uma estrutura de dados unidimensional, semelhante a um array. Pode conter dados de diferentes tipos (inteiros, strings, floats, etc.)."
   ]
  },
  {
   "cell_type": "code",
   "execution_count": 3,
   "id": "3f5f11a0",
   "metadata": {},
   "outputs": [
    {
     "name": "stdout",
     "output_type": "stream",
     "text": [
      "a    10\n",
      "b    20\n",
      "c    30\n",
      "d    40\n",
      "e    50\n",
      "dtype: int64\n"
     ]
    }
   ],
   "source": [
    "series_exemplo = pd.Series([10, 20, 30, 40, 50], index=['a', 'b', 'c', 'd', 'e'])\n",
    "print(series_exemplo)"
   ]
  },
  {
   "cell_type": "markdown",
   "id": "a0e0627e",
   "metadata": {},
   "source": [
    "### Dataframes"
   ]
  },
  {
   "cell_type": "markdown",
   "id": "c5445296",
   "metadata": {},
   "source": [
    "- O DataFrame é uma estrutura de dados bidimensional (tabelas), composta por linhas e colunas. Cada coluna pode ser vista como uma Series"
   ]
  },
  {
   "cell_type": "code",
   "execution_count": 4,
   "id": "d1e3d50b",
   "metadata": {},
   "outputs": [
    {
     "name": "stdout",
     "output_type": "stream",
     "text": [
      "      Nome  Idade          Cidade\n",
      "0      Ana     23       São Paulo\n",
      "1    Bruno     25  Rio de Janeiro\n",
      "2   Carlos     30  Belo Horizonte\n",
      "3  Daniela     22        Curitiba\n"
     ]
    }
   ],
   "source": [
    "# Criando um DataFrame de exemplo\n",
    "data = {\n",
    "    'Nome': ['Ana', 'Bruno', 'Carlos', 'Daniela'],\n",
    "    'Idade': [23, 25, 30, 22],\n",
    "    'Cidade': ['São Paulo', 'Rio de Janeiro', 'Belo Horizonte', 'Curitiba']\n",
    "}\n",
    "\n",
    "df_exemplo = pd.DataFrame(data)\n",
    "print(df_exemplo)"
   ]
  },
  {
   "cell_type": "markdown",
   "id": "b29e473e",
   "metadata": {},
   "source": [
    "##  - Visualização de Dados"
   ]
  },
  {
   "cell_type": "markdown",
   "id": "c04b1a9e",
   "metadata": {},
   "source": [
    "- Depois de criar ou carregar dados em um DataFrame, é importante saber como visualizar e explorar esses dados."
   ]
  },
  {
   "cell_type": "markdown",
   "id": "29bc03f0",
   "metadata": {},
   "source": [
    "### Visualizar as primeiras linhas - `head()`"
   ]
  },
  {
   "cell_type": "code",
   "execution_count": 5,
   "id": "9eb14ba9",
   "metadata": {},
   "outputs": [
    {
     "name": "stdout",
     "output_type": "stream",
     "text": [
      "     Nome  Idade          Cidade\n",
      "0     Ana     23       São Paulo\n",
      "1   Bruno     25  Rio de Janeiro\n",
      "2  Carlos     30  Belo Horizonte\n"
     ]
    }
   ],
   "source": [
    "# Visualizando as 3 primeiras linhas do DataFrame\n",
    "print(df_exemplo.head(3))\n"
   ]
  },
  {
   "cell_type": "markdown",
   "id": "2ad1626d",
   "metadata": {},
   "source": [
    "### Visualizar as últimas linhas - `tail()`"
   ]
  },
  {
   "cell_type": "code",
   "execution_count": 6,
   "id": "79926e78",
   "metadata": {},
   "outputs": [
    {
     "name": "stdout",
     "output_type": "stream",
     "text": [
      "      Nome  Idade          Cidade\n",
      "2   Carlos     30  Belo Horizonte\n",
      "3  Daniela     22        Curitiba\n"
     ]
    }
   ],
   "source": [
    "# Visualizando as 2 últimas linhas do DataFrame\n",
    "print(df_exemplo.tail(2))"
   ]
  },
  {
   "cell_type": "markdown",
   "id": "0f53f1c1",
   "metadata": {},
   "source": [
    "### Informações gerais - `info()`"
   ]
  },
  {
   "cell_type": "code",
   "execution_count": 8,
   "id": "97ad637f",
   "metadata": {},
   "outputs": [
    {
     "name": "stdout",
     "output_type": "stream",
     "text": [
      "<class 'pandas.core.frame.DataFrame'>\n",
      "RangeIndex: 4 entries, 0 to 3\n",
      "Data columns (total 3 columns):\n",
      " #   Column  Non-Null Count  Dtype \n",
      "---  ------  --------------  ----- \n",
      " 0   Nome    4 non-null      object\n",
      " 1   Idade   4 non-null      int64 \n",
      " 2   Cidade  4 non-null      object\n",
      "dtypes: int64(1), object(2)\n",
      "memory usage: 228.0+ bytes\n",
      "None\n"
     ]
    }
   ],
   "source": [
    "# Exibindo informações gerais do DataFrame\n",
    "print(df_exemplo.info())"
   ]
  },
  {
   "cell_type": "markdown",
   "id": "211d285f",
   "metadata": {},
   "source": [
    "### Estatísticas descritivas - `describe()`"
   ]
  },
  {
   "cell_type": "code",
   "execution_count": 7,
   "id": "9c292420",
   "metadata": {},
   "outputs": [
    {
     "name": "stdout",
     "output_type": "stream",
     "text": [
      "           Idade\n",
      "count   4.000000\n",
      "mean   25.000000\n",
      "std     3.559026\n",
      "min    22.000000\n",
      "25%    22.750000\n",
      "50%    24.000000\n",
      "75%    26.250000\n",
      "max    30.000000\n"
     ]
    }
   ],
   "source": [
    "# Exibindo estatísticas descritivas do DataFrame\n",
    "print(df_exemplo.describe())\n",
    "\n",
    "# count: Número de entradas não nulas.\n",
    "#mean: Média aritmética dos valores.\n",
    "#std: Desvio padrão, que mede a dispersão dos dados em relação à média.\n",
    "#min: O valor mínimo da coluna.\n",
    "#25%: Primeiro quartil (percentil 25), que indica que 25% dos dados estão abaixo desse valor.\n",
    "#50%: Mediana (percentil 50), que indica que 50% dos dados estão abaixo desse valor.\n",
    "#75%: Terceiro quartil (percentil 75), que indica que 75% dos dados estão abaixo desse valor.\n",
    "#max: O valor máximo da coluna."
   ]
  },
  {
   "cell_type": "markdown",
   "id": "c9d9249f",
   "metadata": {},
   "source": [
    "# Exercício: Análise de Dados de Vendas\n",
    "\n",
    "Você é responsável por analisar os dados de vendas de uma pequena empresa. Os dados estão organizados nas seguintes colunas:\n",
    "\n",
    "- **Produto**: O nome do produto vendido.\n",
    "- **Quantidade**: A quantidade de produtos vendidos.\n",
    "- **Preço Unitário**: O preço por unidade de cada produto.\n",
    "\n",
    "## Passos:\n",
    "\n",
    "### 1. Instale e importe o Pandas  \n",
    "   - Se necessário, instale o `pandas` e importe-o para o seu notebook.\n",
    "\n",
    "### 2. Crie um DataFrame  \n",
    "   Com base nos dados abaixo, crie um DataFrame chamado `df_vendas`:\n",
    "\n",
    "   | Produto   | Quantidade | Preço Unitário |\n",
    "   |-----------|------------|----------------|\n",
    "   | TV        | 5          | 2000           |\n",
    "   | Geladeira | 3          | 1500           |\n",
    "   | Celular   | 10         | 1200           |\n",
    "   | Notebook  | 2          | 3000           |\n",
    "   | TV        | 4          | 2000           | \n",
    "   | Celular   | 7          | 1200           | \n",
    "\n",
    "   - Utilize um dicionário para criar esse DataFrame.\n",
    "\n",
    "### 3. Visualize os dados  \n",
    "   - Exiba as primeiras 3 linhas do DataFrame com `head()`.\n",
    "   - Exiba as últimas 2 linhas do DataFrame com `tail()`.\n",
    "\n",
    "### 4. Obtenha informações gerais dos dados  \n",
    "   - Use o método `info()` para obter uma visão geral das colunas, tipos de dados e valores nulos.\n",
    "\n",
    "### 5. Exiba estatísticas descritivas  \n",
    "   - Utilize o método `describe()` para exibir estatísticas descritivas das colunas numéricas.\n",
    "\n",
    "### 6. Cálculo do valor total\n",
    "   - Crie uma nova coluna chamada `Valor Total`, que é o resultado da multiplicação de `Quantidade` e `Preço Unitário`\n",
    "\n",
    "   - Exiba o DataFrame com a nova coluna.\n"
   ]
  },
  {
   "cell_type": "code",
   "execution_count": 6,
   "id": "889123f7",
   "metadata": {},
   "outputs": [
    {
     "name": "stdout",
     "output_type": "stream",
     "text": [
      "\n",
      "Data Frame Inicial:\n",
      "\n",
      "     Produto  Quantidade  Preço Unitário\n",
      "0         TV           5            2000\n",
      "1  Geladeira           3            1500\n",
      "2    Celular          10            1200\n",
      "3   Notebook           2            3000\n",
      "4         TV           4            2000\n",
      "5    Celular           7            1200\n",
      "\n",
      "Head (3):\n",
      "\n",
      "     Produto  Quantidade  Preço Unitário\n",
      "0         TV           5            2000\n",
      "1  Geladeira           3            1500\n",
      "2    Celular          10            1200\n",
      "\n",
      "Tail (2):\n",
      "\n",
      "   Produto  Quantidade  Preço Unitário\n",
      "4       TV           4            2000\n",
      "5  Celular           7            1200\n",
      "\n",
      "Informação dos valores:\n",
      "\n",
      "<class 'pandas.core.frame.DataFrame'>\n",
      "RangeIndex: 6 entries, 0 to 5\n",
      "Data columns (total 3 columns):\n",
      " #   Column          Non-Null Count  Dtype \n",
      "---  ------          --------------  ----- \n",
      " 0   Produto         6 non-null      object\n",
      " 1   Quantidade      6 non-null      int64 \n",
      " 2   Preço Unitário  6 non-null      int64 \n",
      "dtypes: int64(2), object(1)\n",
      "memory usage: 276.0+ bytes\n",
      "None\n",
      "\n",
      "Descrição dos valores:\n",
      "\n",
      "       Quantidade  Preço Unitário\n",
      "count    6.000000        6.000000\n",
      "mean     5.166667     1816.666667\n",
      "std      2.926887      682.397733\n",
      "min      2.000000     1200.000000\n",
      "25%      3.250000     1275.000000\n",
      "50%      4.500000     1750.000000\n",
      "75%      6.500000     2000.000000\n",
      "max     10.000000     3000.000000\n",
      "\n",
      "Data Frame Atualizado:\n",
      "\n",
      "     Produto  Quantidade  Preço Unitário  Valor Total\n",
      "0         TV           5            2000        10000\n",
      "1  Geladeira           3            1500         4500\n",
      "2    Celular          10            1200        12000\n",
      "3   Notebook           2            3000         6000\n",
      "4         TV           4            2000         8000\n",
      "5    Celular           7            1200         8400\n"
     ]
    }
   ],
   "source": [
    "#Digite o código abaixo\n",
    "\n",
    "\n",
    "# Passo 1: Importe a biblioteca pandas\n",
    "import pandas as pd\n",
    "\n",
    "# Passo 2: Criação do DataFrame\n",
    "dados_vendas = {\n",
    "    'Produto': ['TV', 'Geladeira', 'Celular', 'Notebook', 'TV', 'Celular'],\n",
    "    'Quantidade': [5, 3, 10, 2, 4, 7],\n",
    "    'Preço Unitário': [2000, 1500, 1200, 3000, 2000, 1200]\n",
    "}\n",
    "\n",
    "print(\"\\nData Frame Inicial:\\n\")\n",
    "\n",
    "df_vendas = pd.DataFrame(dados_vendas)\n",
    "\n",
    "print(df_vendas)\n",
    "\n",
    "# Passo 3: Visualizando os dados\n",
    "print(\"\\nHead (3):\\n\")\n",
    "print(df_vendas.head(3))  # Primeiras 3 linhas\n",
    "\n",
    "print(\"\\nTail (2):\\n\")\n",
    "print(df_vendas.tail(2))  # Últimas 2 linhas\n",
    "\n",
    "# Passo 4: Informações gerais\n",
    "print(\"\\nInformação dos valores:\\n\")\n",
    "print(df_vendas.info())\n",
    "\n",
    "# Passo 5: Estatísticas descritivas\n",
    "print(\"\\nDescrição dos valores:\\n\")\n",
    "print(df_vendas.describe())\n",
    "\n",
    "# Passo 6: Cálculo do Valor Total (Quantidade * Preço Unitário)\n",
    "df_vendas['Valor Total'] = df_vendas['Quantidade'] * df_vendas['Preço Unitário']\n",
    "\n",
    "# Exibindo o DataFrame atualizado\n",
    "print(\"\\nData Frame Atualizado:\\n\")\n",
    "print(df_vendas)"
   ]
  }
 ],
 "metadata": {
  "kernelspec": {
   "display_name": "Python [conda env:base] *",
   "language": "python",
   "name": "conda-base-py"
  },
  "language_info": {
   "codemirror_mode": {
    "name": "ipython",
    "version": 3
   },
   "file_extension": ".py",
   "mimetype": "text/x-python",
   "name": "python",
   "nbconvert_exporter": "python",
   "pygments_lexer": "ipython3",
   "version": "3.12.7"
  }
 },
 "nbformat": 4,
 "nbformat_minor": 5
}
