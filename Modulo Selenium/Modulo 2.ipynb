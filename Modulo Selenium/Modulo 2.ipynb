{
 "cells": [
  {
   "cell_type": "markdown",
   "id": "eb4e4330-d9c5-489b-9653-df14e56e6446",
   "metadata": {},
   "source": [
    "## 🗺️ Módulo 2 – Estratégias de Localização de Elementos\n",
    "\n",
    "Para interagir com uma página web, o primeiro passo é saber como \"encontrar\" os elementos (botões, campos de texto, links, etc.). O Selenium oferece diversas estratégias para isso. A escolha da melhor estratégia depende da estrutura HTML da página.\n",
    "\n",
    "### **Objetivos**\n",
    "\n",
    "- Conhecer e praticar diferentes formas de localizar elementos:\n",
    "- **ID:** O mais rápido e confiável, pois o ID deve ser único na página.\n",
    "- **Name:** Útil para formulários, onde campos costumam ter nomes únicos.\n",
    "- **Class Name:** Bom para encontrar elementos que compartilham a mesma estilização CSS.\n",
    "- **Tag Name:** Usado para encontrar todos os elementos de um mesmo tipo (ex: todas as tags `<a>` ou `<h1>`).\n",
    "- **CSS Selectors:** Muito poderoso e performático, permite combinar atributos para criar seletores complexos.\n",
    "- **XPath:** O mais flexível de todos. Permite navegar pela árvore DOM inteira e localizar elementos com base em qualquer atributo, texto ou relação com outros elementos. É mais lento que o CSS Selector.\n",
    "\n",
    "### **Sintaxe Básica**\n",
    "A sintaxe principal usa o método `find_element` (para encontrar o primeiro elemento que corresponde) ou `find_elements` (para encontrar todos).\n",
    "\n",
    "```python\n",
    "from selenium.webdriver.common.by import By\n",
    "\n",
    "# Exemplo com ID\n",
    "elemento = driver.find_element(By.ID, 'id_do_elemento')\n",
    "\n",
    "# Exemplo com Name\n",
    "elemento = driver.find_element(By.NAME, 'nome_do_elemento')\n",
    "\n",
    "# Exemplo com CSS Selector\n",
    "elemento = driver.find_element(By.CSS_SELECTOR, '#id > .classe')\n",
    "\n",
    "# Exemplo com XPath\n",
    "elemento = driver.find_element(By.XPATH, '//tag[@atributo=\"valor\"]')"
   ]
  },
  {
   "cell_type": "markdown",
   "id": "1b4fafb2-1172-4f4e-ae8a-5d4e811dafdd",
   "metadata": {},
   "source": [
    "### Projeto Prático: Automatizar um formulário de cadastro\n",
    "Vamos usar o site de testes \"The-Internet\" para preencher um formulário de login ( https://the-internet.herokuapp.com/login) <br>\n",
    "O objetivo é localizar os campos de usuário e senha, preenchê-los e clicar no botão de login.\n",
    "\n",
    "\n",
    "https://the-internet.herokuapp.com/"
   ]
  },
  {
   "cell_type": "code",
   "execution_count": 1,
   "id": "cee37462-c71c-4e49-93f5-ddbb1e84fc34",
   "metadata": {},
   "outputs": [
    {
     "name": "stdout",
     "output_type": "stream",
     "text": [
      "Preenchido o campo de usuário via ID.\n",
      "Preenchido o campo de senha via Name.\n",
      "Botão de login clicado via CSS Selector.\n",
      "URL atual: https://the-internet.herokuapp.com/secure\n"
     ]
    }
   ],
   "source": [
    "from selenium import webdriver\n",
    "from selenium.webdriver.common.by import By\n",
    "from time import sleep\n",
    "\n",
    "# Inicializa o driver do Chrome\n",
    "driver = webdriver.Chrome()\n",
    "\n",
    "# Abre a página de login\n",
    "driver.get('https://the-internet.herokuapp.com/login')\n",
    "sleep(2) # Pequena pausa para visualização\n",
    "\n",
    "# --- Estratégias de Localização ---\n",
    "\n",
    "# 1. Localizando o campo de usuário por ID\n",
    "campo_usuario = driver.find_element(By.ID, 'username')\n",
    "campo_usuario.send_keys('tomsmith')\n",
    "print('Preenchido o campo de usuário via ID.')\n",
    "sleep(1)\n",
    "\n",
    "# 2. Localizando o campo de senha por NAME\n",
    "campo_senha = driver.find_element(By.NAME, 'password')\n",
    "campo_senha.send_keys('SuperSecretPassword!')\n",
    "print('Preenchido o campo de senha via Name.')\n",
    "sleep(1)\n",
    "\n",
    "# 3. Localizando o botão de login por CSS Selector (usando a tag e a classe)\n",
    "botao_login = driver.find_element(By.CSS_SELECTOR, 'button.radius')\n",
    "botao_login.click()\n",
    "print('Botão de login clicado via CSS Selector.')\n",
    "\n",
    "# Verificação final\n",
    "sleep(3)\n",
    "print(f'URL atual: {driver.current_url}')\n",
    "\n",
    "# Fecha o navegador\n",
    "driver.quit()"
   ]
  }
 ],
 "metadata": {
  "kernelspec": {
   "display_name": "Python 3 (ipykernel)",
   "language": "python",
   "name": "python3"
  },
  "language_info": {
   "codemirror_mode": {
    "name": "ipython",
    "version": 3
   },
   "file_extension": ".py",
   "mimetype": "text/x-python",
   "name": "python",
   "nbconvert_exporter": "python",
   "pygments_lexer": "ipython3",
   "version": "3.12.3"
  }
 },
 "nbformat": 4,
 "nbformat_minor": 5
}
