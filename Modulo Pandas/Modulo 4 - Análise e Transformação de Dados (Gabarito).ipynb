{
 "cells": [
  {
   "cell_type": "markdown",
   "id": "2837103a",
   "metadata": {},
   "source": [
    "# Módulo 4: Análise e Transformação de Dados"
   ]
  },
  {
   "cell_type": "markdown",
   "id": "22b52fa1",
   "metadata": {},
   "source": [
    "## 1. Agrupamento de Dados com `groupby`\n",
    "\n"
   ]
  },
  {
   "cell_type": "code",
   "execution_count": 2,
   "id": "3680170c",
   "metadata": {},
   "outputs": [
    {
     "name": "stdout",
     "output_type": "stream",
     "text": [
      "           Valor\n",
      "Categoria       \n",
      "A             90\n",
      "B            120\n"
     ]
    }
   ],
   "source": [
    "import pandas as pd\n",
    "\n",
    "# Exemplo: Criando um DataFrame\n",
    "data = {\n",
    "    'Categoria': ['A', 'B', 'A', 'B', 'A', 'B'],\n",
    "    'Valor': [10, 20, 30, 40, 50, 60]\n",
    "}\n",
    "df = pd.DataFrame(data)\n",
    "\n",
    "# Agrupando os dados por 'Categoria' e somando os valores\n",
    "grouped = df.groupby('Categoria').sum()\n",
    "print(grouped)"
   ]
  },
  {
   "cell_type": "markdown",
   "id": "39cd2c18",
   "metadata": {},
   "source": [
    "## 2. Aplicação de Funções (média, soma, contagem)\n",
    "\n"
   ]
  },
  {
   "cell_type": "code",
   "execution_count": 3,
   "id": "f0011dde",
   "metadata": {},
   "outputs": [
    {
     "name": "stdout",
     "output_type": "stream",
     "text": [
      "Média por Categoria:\n",
      "Categoria\n",
      "A    30.0\n",
      "B    40.0\n",
      "Name: Valor, dtype: float64\n",
      "Contagem por Categoria:\n",
      "Categoria\n",
      "A    3\n",
      "B    3\n",
      "Name: Valor, dtype: int64\n"
     ]
    }
   ],
   "source": [
    "mean_values = df.groupby('Categoria')['Valor'].mean()\n",
    "print(\"Média por Categoria:\")\n",
    "print(mean_values)\n",
    "\n",
    "# Contando quantos itens existem por categoria\n",
    "count_values = df.groupby('Categoria')['Valor'].count()\n",
    "print(\"Contagem por Categoria:\")\n",
    "print(count_values)"
   ]
  },
  {
   "cell_type": "markdown",
   "id": "c9e5b5b5",
   "metadata": {},
   "source": [
    "## 3. Mesclagem e Junção de DataFrames (`merge`, `join`, `concat`)\n",
    "\n"
   ]
  },
  {
   "cell_type": "code",
   "execution_count": 7,
   "id": "f7f79053",
   "metadata": {},
   "outputs": [
    {
     "name": "stdout",
     "output_type": "stream",
     "text": [
      "Merge Inner:\n",
      "   ID   Nome  Idade\n",
      "0   1  Alice     25\n",
      "1   2    Bob     30\n",
      "\n",
      "\n",
      "Concatenação:\n",
      "   ID     Nome  Idade\n",
      "0   1    Alice    NaN\n",
      "1   2      Bob    NaN\n",
      "2   3  Charlie    NaN\n",
      "0   1      NaN   25.0\n",
      "1   2      NaN   30.0\n",
      "2   4      NaN   35.0\n"
     ]
    }
   ],
   "source": [
    "# Criando dois DataFrames para mesclagem\n",
    "df1 = pd.DataFrame({\n",
    "    'ID': [1, 2, 3],\n",
    "    'Nome': ['Alice', 'Bob', 'Charlie']\n",
    "})\n",
    "df2 = pd.DataFrame({\n",
    "    'ID': [1, 2, 4],\n",
    "    'Idade': [25, 30, 35]\n",
    "})\n",
    "\n",
    "# Usando merge para juntar os DataFrames pela coluna 'ID'\n",
    "merged_df = pd.merge(df1, df2, on='ID', how='inner')\n",
    "print(\"Merge Inner:\")\n",
    "print(merged_df)\n",
    "\n",
    "print(\"\\n\")\n",
    "# Concatenando os DataFrames verticalmente\n",
    "concat_df = pd.concat([df1, df2], axis=0)\n",
    "print(\"Concatenação:\")\n",
    "print(concat_df)"
   ]
  },
  {
   "cell_type": "markdown",
   "id": "f8f83340",
   "metadata": {},
   "source": [
    "## 4. Ordenação de Dados (`sort_values`, `sort_index`)"
   ]
  },
  {
   "cell_type": "code",
   "execution_count": 8,
   "id": "411c6e06",
   "metadata": {},
   "outputs": [
    {
     "name": "stdout",
     "output_type": "stream",
     "text": [
      "Ordenado por Idade:\n",
      "      Nome  Idade\n",
      "2  Charlie     20\n",
      "0    Alice     25\n",
      "1      Bob     30\n",
      "Ordenado por Índice Decrescente:\n",
      "      Nome  Idade\n",
      "2  Charlie     20\n",
      "1      Bob     30\n",
      "0    Alice     25\n"
     ]
    }
   ],
   "source": [
    "# Criando um DataFrame para ordenar\n",
    "data = {\n",
    "    'Nome': ['Alice', 'Bob', 'Charlie'],\n",
    "    'Idade': [25, 30, 20]\n",
    "}\n",
    "df = pd.DataFrame(data)\n",
    "\n",
    "# Ordenando os valores pela coluna 'Idade'\n",
    "sorted_by_age = df.sort_values(by='Idade')\n",
    "print(\"Ordenado por Idade:\")\n",
    "print(sorted_by_age)\n",
    "\n",
    "# Ordenando os índices em ordem decrescente\n",
    "sorted_by_index = df.sort_index(ascending=False)\n",
    "print(\"Ordenado por Índice Decrescente:\")\n",
    "print(sorted_by_index)"
   ]
  },
  {
   "cell_type": "markdown",
   "id": "3585a47f",
   "metadata": {},
   "source": [
    "\n",
    "\n",
    "## Exercício Prático\n",
    "\n",
    "1. Crie um DataFrame com as seguintes colunas:\n",
    "   - `Produto`: Nomes dos produtos\n",
    "   - `Categoria`: Categoria dos produtos\n",
    "   - `Preço`: Preço de cada produto\n",
    "2. Agrupe os dados pela coluna `Categoria` e calcule a soma dos preços por categoria.\n",
    "3. Adicione uma nova coluna `Desconto`, aplicando um desconto de 10% em todos os produtos.\n",
    "4. Ordene os produtos pelo preço com desconto.\n",
    "\n"
   ]
  },
  {
   "cell_type": "code",
   "execution_count": 10,
   "id": "5706c248",
   "metadata": {
    "scrolled": true
   },
   "outputs": [
    {
     "name": "stdout",
     "output_type": "stream",
     "text": [
      "Soma dos preços por Categoria:\n",
      "Categoria\n",
      "Esportes     170\n",
      "Vestuário    370\n",
      "Name: Preço, dtype: int64\n",
      "Produtos com Desconto:\n",
      "    Produto  Categoria  Preço  Desconto\n",
      "0  Camiseta  Vestuário     50      45.0\n",
      "1     Calça  Vestuário    120     108.0\n",
      "2    Casaco  Vestuário    200     180.0\n",
      "3     Short   Esportes     80      72.0\n",
      "4   Bermuda   Esportes     90      81.0\n",
      "Produtos Ordenados pelo Preço com Desconto:\n",
      "    Produto  Categoria  Preço  Desconto\n",
      "0  Camiseta  Vestuário     50      45.0\n",
      "3     Short   Esportes     80      72.0\n",
      "4   Bermuda   Esportes     90      81.0\n",
      "1     Calça  Vestuário    120     108.0\n",
      "2    Casaco  Vestuário    200     180.0\n"
     ]
    }
   ],
   "source": [
    "### Resposta\n",
    "# Criando o DataFrame\n",
    "products = pd.DataFrame({\n",
    "    'Produto': ['Camiseta', 'Calça', 'Casaco', 'Short', 'Bermuda'],\n",
    "    'Categoria': ['Vestuário', 'Vestuário', 'Vestuário', 'Esportes', 'Esportes'],\n",
    "    'Preço': [50, 120, 200, 80, 90]\n",
    "})\n",
    "\n",
    "# Agrupando por Categoria e somando os preços\n",
    "grouped_prices = products.groupby('Categoria')['Preço'].sum()\n",
    "print(\"Soma dos preços por Categoria:\")\n",
    "print(grouped_prices)\n",
    "\n",
    "# Adicionando a coluna de Desconto\n",
    "products['Desconto'] = products['Preço'] * 0.9\n",
    "print(\"Produtos com Desconto:\")\n",
    "print(products)\n",
    "\n",
    "# Ordenando pelo preço com desconto\n",
    "sorted_products = products.sort_values(by='Desconto')\n",
    "print(\"Produtos Ordenados pelo Preço com Desconto:\")\n",
    "print(sorted_products)"
   ]
  },
  {
   "cell_type": "code",
   "execution_count": null,
   "id": "2f1af9a9",
   "metadata": {},
   "outputs": [],
   "source": []
  }
 ],
 "metadata": {
  "kernelspec": {
   "display_name": "Python 3 (ipykernel)",
   "language": "python",
   "name": "python3"
  },
  "language_info": {
   "codemirror_mode": {
    "name": "ipython",
    "version": 3
   },
   "file_extension": ".py",
   "mimetype": "text/x-python",
   "name": "python",
   "nbconvert_exporter": "python",
   "pygments_lexer": "ipython3",
   "version": "3.11.5"
  }
 },
 "nbformat": 4,
 "nbformat_minor": 5
}
