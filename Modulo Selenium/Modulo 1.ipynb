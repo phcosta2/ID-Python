{
 "cells": [
  {
   "cell_type": "markdown",
   "id": "ea985ca2-2aab-4ec4-a4c4-17443d22293b",
   "metadata": {},
   "source": [
    "# 🌐 Módulo 1 – Automação Web com Selenium\n",
    "\n",
    "## 📌 Objetivo\n",
    "Aprender a instalar e utilizar o **Selenium** para controlar navegadores automaticamente, realizar buscas, preencher formulários e interagir com páginas da web.\n",
    "\n",
    "---\n",
    "\n",
    "## 🚀 O que é o Selenium?\n",
    "O **Selenium** é uma ferramenta que permite automatizar navegadores.  \n",
    "Ele é muito usado para:\n",
    "- 🧑‍💻 Testes automatizados de sites e sistemas web.  \n",
    "- 🔍 Coleta de informações (Web Scraping).  \n",
    "- ⚡ Automatizar tarefas repetitivas em páginas.  \n",
    "\n",
    "---\n",
    "\n",
    "## ⚙️ Instalação\n",
    "Para começar, instale o Selenium no Python:\n",
    "\n",
    "```bash\n",
    "pip install selenium\n",
    "```\n",
    "Você também precisa do WebDriver (um “controlador” do navegador).<br>\n",
    "👉 Exemplo: para Google Chrome, baixe o ChromeDriver compatível com sua versão aqui https://developer.chrome.com/docs/chromedriver/downloads?hl=pt-br"
   ]
  },
  {
   "cell_type": "markdown",
   "id": "22d3cbb6-22c7-43fd-922d-e4f2b71ee18c",
   "metadata": {},
   "source": [
    "### 🕹️ WebDriver\n",
    "\n",
    "Um **WebDriver** é como um *\"controle remoto\"* do navegador.  \n",
    "Ele serve de ponte entre o **Selenium (Python)** e o navegador (Chrome, Firefox, Edge, etc.).\n",
    "\n",
    "👉 Em outras palavras:\n",
    "- O **Selenium** manda os comandos.  \n",
    "- O **WebDriver** traduz esses comandos para o navegador.  \n",
    "- O **navegador** executa (abrir página, clicar, digitar, etc.).  \n",
    "\n",
    "---\n",
    "\n",
    "### ⚙️ Exemplo de uso\n",
    "\n",
    "```python\n",
    "from selenium import webdriver\n",
    "\n",
    "driver = webdriver.Chrome()\n",
    "driver.get(\"https://www.google.com\")\n",
    "\n",
    "\n",
    "```\n",
    "\n",
    "\n",
    "O que acontece é:\n",
    "\n",
    "- O Selenium chama o ChromeDriver (que é o WebDriver do Google Chrome).\n",
    "\n",
    "- O ChromeDriver abre uma janela do navegador.\n",
    "\n",
    "- O Selenium manda instruções (abrir página, buscar elementos, clicar...).\n",
    "\n",
    "- O ChromeDriver executa no navegador real.\n",
    "\n",
    "### 🌐 Tipos de WebDriver\n",
    "\n",
    "Cada navegador possui o seu próprio WebDriver:\n",
    "\n",
    "🌐 Google Chrome → chromedriver\n",
    "\n",
    "🦊 Mozilla Firefox → geckodriver\n",
    "\n",
    "🪟 Microsoft Edge → msedgedriver\n",
    "\n",
    "🍎 Safari (macOS) → já vem com suporte embutido\n",
    "\n",
    ">🔎 Para este material, iremos usar o Google Chrome (ChromeDriver) como exemplo.\n"
   ]
  },
  {
   "cell_type": "code",
   "execution_count": 36,
   "id": "966eb116-cd87-44f8-a055-ab28a80bf3a0",
   "metadata": {},
   "outputs": [
    {
     "name": "stdout",
     "output_type": "stream",
     "text": [
      "Requirement already satisfied: selenium in c:\\users\\pedro\\anaconda3\\lib\\site-packages (4.35.0)\n",
      "Requirement already satisfied: urllib3<3.0,>=2.5.0 in c:\\users\\pedro\\anaconda3\\lib\\site-packages (from urllib3[socks]<3.0,>=2.5.0->selenium) (2.5.0)\n",
      "Requirement already satisfied: trio~=0.30.0 in c:\\users\\pedro\\anaconda3\\lib\\site-packages (from selenium) (0.30.0)\n",
      "Requirement already satisfied: trio-websocket~=0.12.2 in c:\\users\\pedro\\anaconda3\\lib\\site-packages (from selenium) (0.12.2)\n",
      "Requirement already satisfied: certifi>=2025.6.15 in c:\\users\\pedro\\anaconda3\\lib\\site-packages (from selenium) (2025.8.3)\n",
      "Requirement already satisfied: typing_extensions~=4.14.0 in c:\\users\\pedro\\anaconda3\\lib\\site-packages (from selenium) (4.14.1)\n",
      "Requirement already satisfied: websocket-client~=1.8.0 in c:\\users\\pedro\\anaconda3\\lib\\site-packages (from selenium) (1.8.0)\n",
      "Requirement already satisfied: attrs>=23.2.0 in c:\\users\\pedro\\anaconda3\\lib\\site-packages (from trio~=0.30.0->selenium) (25.3.0)\n",
      "Requirement already satisfied: sortedcontainers in c:\\users\\pedro\\anaconda3\\lib\\site-packages (from trio~=0.30.0->selenium) (2.4.0)\n",
      "Requirement already satisfied: idna in c:\\users\\pedro\\anaconda3\\lib\\site-packages (from trio~=0.30.0->selenium) (3.7)\n",
      "Requirement already satisfied: outcome in c:\\users\\pedro\\anaconda3\\lib\\site-packages (from trio~=0.30.0->selenium) (1.3.0.post0)\n",
      "Requirement already satisfied: sniffio>=1.3.0 in c:\\users\\pedro\\anaconda3\\lib\\site-packages (from trio~=0.30.0->selenium) (1.3.0)\n",
      "Requirement already satisfied: cffi>=1.14 in c:\\users\\pedro\\anaconda3\\lib\\site-packages (from trio~=0.30.0->selenium) (1.17.1)\n",
      "Requirement already satisfied: wsproto>=0.14 in c:\\users\\pedro\\anaconda3\\lib\\site-packages (from trio-websocket~=0.12.2->selenium) (1.2.0)\n",
      "Requirement already satisfied: pysocks!=1.5.7,<2.0,>=1.5.6 in c:\\users\\pedro\\anaconda3\\lib\\site-packages (from urllib3[socks]<3.0,>=2.5.0->selenium) (1.7.1)\n",
      "Requirement already satisfied: pycparser in c:\\users\\pedro\\anaconda3\\lib\\site-packages (from cffi>=1.14->trio~=0.30.0->selenium) (2.21)\n",
      "Requirement already satisfied: h11<1,>=0.9.0 in c:\\users\\pedro\\anaconda3\\lib\\site-packages (from wsproto>=0.14->trio-websocket~=0.12.2->selenium) (0.14.0)\n",
      "Note: you may need to restart the kernel to use updated packages.\n"
     ]
    }
   ],
   "source": [
    "pip install selenium"
   ]
  },
  {
   "cell_type": "code",
   "execution_count": 58,
   "id": "715c8373-254c-42c1-9397-cc91de3d85e2",
   "metadata": {},
   "outputs": [],
   "source": [
    "from selenium import webdriver\n",
    "from selenium.webdriver.common.by import By\n",
    "import time\n",
    "\n",
    "# Abre o navegador\n",
    "driver = webdriver.Chrome()\n",
    "\n",
    "# Acessa o Google\n",
    "driver.get(\"https://www.google.com\")\n",
    "\n",
    "# Localiza a barra de pesquisa\n",
    "search_box = driver.find_element(By.NAME, \"q\")\n",
    "\n",
    "# Digita algo\n",
    "search_box.send_keys(\"Centro Universitário FEI\")\n",
    "\n",
    "# Envia o formulário (ENTER)\n",
    "search_box.submit()\n",
    "\n",
    "# Espera 5 segundos para ver o resultado\n",
    "time.sleep(40)\n",
    "\n",
    "# Fecha o navegador\n",
    "driver.quit()\n"
   ]
  },
  {
   "cell_type": "code",
   "execution_count": null,
   "id": "aaf78ffb-bcae-486c-b9a2-fe6426078420",
   "metadata": {
    "scrolled": true
   },
   "outputs": [
    {
     "name": "stdout",
     "output_type": "stream",
     "text": [
      "FEI: nota máxima no MEC - Administração, Ciência da Computação e Engenharia.\n"
     ]
    }
   ],
   "source": [
    "from selenium import webdriver\n",
    "from selenium.webdriver.common.by import By\n",
    "import time\n",
    "\n",
    "# Abre o navegador\n",
    "driver = webdriver.Chrome()\n",
    "\n",
    "# Acessa o Google\n",
    "driver.get(\"https://portal.fei.edu.br/\")\n",
    "\n",
    "print(driver.title)  # Mostra o título da aba\n",
    "\n",
    "# Espera 5 segundos para ver o resultado\n",
    "time.sleep(40)\n",
    "\n",
    "# Fecha o navegador\n",
    "driver.quit()\n"
   ]
  }
 ],
 "metadata": {
  "kernelspec": {
   "display_name": "Python 3 (ipykernel)",
   "language": "python",
   "name": "python3"
  },
  "language_info": {
   "codemirror_mode": {
    "name": "ipython",
    "version": 3
   },
   "file_extension": ".py",
   "mimetype": "text/x-python",
   "name": "python",
   "nbconvert_exporter": "python",
   "pygments_lexer": "ipython3",
   "version": "3.12.3"
  }
 },
 "nbformat": 4,
 "nbformat_minor": 5
}
