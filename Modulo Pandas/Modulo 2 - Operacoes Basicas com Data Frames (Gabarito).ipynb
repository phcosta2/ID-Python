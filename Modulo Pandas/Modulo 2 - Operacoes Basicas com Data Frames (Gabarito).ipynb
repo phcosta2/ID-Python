{
 "cells": [
  {
   "cell_type": "markdown",
   "id": "7225f8dc",
   "metadata": {},
   "source": [
    "# Módulo 2: Operações Básicas com Data Frames\n",
    "\n",
    "Neste módulo, vamos nos concentrar nas operações básicas que podemos realizar em DataFrames com o Pandas. Vamos aprender a ler e escrever arquivos de diferentes formatos, a filtrar dados com base em condições específicas e a manipular os índices dos DataFrames.\n",
    "\n",
    "## Tópicos deste Módulo:\n",
    "\n",
    "- Leitura e Escrita de Arquivos CSV, Excel, JSON e Parquet\n",
    "- Filtragem de Dados com Condições\n",
    "- Manipulação de Índices (set_index, reset_index)\n",
    "\n",
    "---\n",
    "\n",
    "## 1. Leitura e Escrita de Arquivos\n",
    "\n",
    "Pandas facilita a leitura e escrita de diferentes tipos de arquivos. Vamos cobrir os formatos CSV, Excel, JSON e Parquet.\n",
    "\n",
    "### Leitura de Arquivos CSV\n",
    "\n",
    "Para ler um arquivo CSV, usamos o método `pd.read_csv()`:\n",
    "\n",
    "```python\n",
    "import pandas as pd\n",
    "\n",
    "# Leitura de um arquivo CSV\n",
    "df = pd.read_csv('caminho_do_arquivo/arquivo.csv')\n",
    "print(df.head())\n",
    "# Salvando o DataFrame em um arquivo CSV\n",
    "df.to_csv('caminho/para/arquivo_salvo.csv', index=False)\n",
    "\n",
    "```\n",
    "\n",
    "### Leitura de Arquivos Excel\n",
    "\n",
    "Para ler um arquivo CSV, usamos o método `pd.read_excel()`:\n",
    "\n",
    "```python\n",
    "import pandas as pd\n",
    "\n",
    "# Leitura de um arquivo Excel\n",
    "df_excel = pd.read_excel('caminho_do_arquivo/arquivo.xlsx')\n",
    "\n",
    "# Escrita de um arquivo Excel\n",
    "df.to_excel('caminho_do_arquivo/arquivo_salvo.xlsx', index=False)\n",
    "\n",
    "```\n",
    "### Leitura de Arquivos JSON\n",
    "\n",
    "Para ler um arquivo CSV, usamos o método `pd.read_json()`:\n",
    "\n",
    "```python\n",
    "import pandas as pd\n",
    "\n",
    "# Leitura de um arquivo JSON\n",
    "df_json = pd.read_json('caminho_do_arquivo/arquivo.json')\n",
    "\n",
    "# Escrita de um arquivo JSON\n",
    "df.to_json('caminho_do_arquivo/arquivo_salvo.json')\n",
    "```\n",
    "\n",
    "### Notas:\n",
    "\n",
    "Cada tipo específico de formato de arquivo (`.json`, `.xlsl`, `.csv`, `etc...`) tem sua proía leitura, que pode ser consultada na documentação do pandas\n"
   ]
  },
  {
   "cell_type": "markdown",
   "id": "0abb4e05",
   "metadata": {},
   "source": [
    "## Filtragem de Dados com Condições\n",
    "\n",
    "\n",
    "### Filtragem Simples"
   ]
  },
  {
   "cell_type": "code",
   "execution_count": 11,
   "id": "a86148ca",
   "metadata": {},
   "outputs": [
    {
     "name": "stdout",
     "output_type": "stream",
     "text": [
      "       Nome  Idade          Cidade\n",
      "1     Bruno     35  Rio de Janeiro\n",
      "4   Eduardo     40        Brasília\n",
      "8      Igor     32          Recife\n",
      "9     Joana     31          Manaus\n",
      "12   Marcos     38   Florianópolis\n",
      "14   Otávio     33       São Paulo\n"
     ]
    }
   ],
   "source": [
    "# Selecionar todas as linhas onde a coluna 'idade' é maior que 30\n",
    "import pandas as pd\n",
    "\n",
    "# Criando o DataFrame com 15 elementos\n",
    "df = {\n",
    "    'Nome': ['Ana', 'Bruno', 'Carlos', 'Daniela', 'Eduardo', 'Fernanda', 'Gabriel', 'Helena', 'Igor', 'Joana', \n",
    "             'Kleber', 'Laura', 'Marcos', 'Nina', 'Otávio'],\n",
    "    'Idade': [23, 35, 22, 28, 40, 30, 25, 27, 32, 31, 29, 24, 38, 26, 33],\n",
    "    'Cidade': ['São Paulo', 'Rio de Janeiro', 'Curitiba', 'Salvador', 'Brasília', 'Fortaleza', 'Belo Horizonte',\n",
    "               'Porto Alegre', 'Recife', 'Manaus', 'Belém', 'Goiânia', 'Florianópolis', 'Campo Grande', 'São Paulo']\n",
    "}\n",
    "\n",
    "df = pd.DataFrame(df)\n",
    "\n",
    "\n",
    "df_filtrado = df[df['Idade'] > 30]\n",
    "print(df_filtrado)"
   ]
  },
  {
   "cell_type": "markdown",
   "id": "634f45a7",
   "metadata": {},
   "source": [
    "### Filtragem com Múltiplas Condições\n",
    "\n",
    "- Você pode combinar condições usando operadores lógicos (`&`, `|`):"
   ]
  },
  {
   "cell_type": "code",
   "execution_count": 12,
   "id": "1ac0e9b0",
   "metadata": {},
   "outputs": [
    {
     "name": "stdout",
     "output_type": "stream",
     "text": [
      "      Nome  Idade     Cidade\n",
      "14  Otávio     33  São Paulo\n"
     ]
    }
   ],
   "source": [
    "# Selecionar linhas onde a idade é maior que 30 e a cidade é 'São Paulo'\n",
    "\n",
    "\n",
    "df_filtrado = df[(df['Idade'] > 30) & (df['Cidade'] == 'São Paulo')]\n",
    "print(df_filtrado)"
   ]
  },
  {
   "cell_type": "markdown",
   "id": "8f4c51e8",
   "metadata": {},
   "source": [
    "## Manipulação de Índices\n",
    "\n",
    "- Os índices no Pandas ajudam a organizar os dados. Você pode definir ou redefinir o índice de um DataFrame.\n",
    "\n",
    "### Definir um Índice com `set_index()`\n",
    "\n",
    " - O método `set_index()` define uma coluna como o índice do DataFrame:"
   ]
  },
  {
   "cell_type": "code",
   "execution_count": 14,
   "id": "13e261b0",
   "metadata": {},
   "outputs": [
    {
     "name": "stdout",
     "output_type": "stream",
     "text": [
      "         Idade          Cidade\n",
      "Nome                          \n",
      "Ana         23       São Paulo\n",
      "Bruno       35  Rio de Janeiro\n",
      "Carlos      22        Curitiba\n",
      "Daniela     28        Salvador\n",
      "Eduardo     40        Brasília\n"
     ]
    }
   ],
   "source": [
    "# Definir a coluna 'nome' como índice\n",
    "df_indexado = df.set_index('Nome')\n",
    "print(df_indexado.head())"
   ]
  },
  {
   "cell_type": "markdown",
   "id": "1c9f8333",
   "metadata": {},
   "source": [
    "### Redefinir o Índice com reset_index()\n",
    "- Se você quiser transformar o índice de volta em uma coluna, use `reset_index()`:"
   ]
  },
  {
   "cell_type": "code",
   "execution_count": 15,
   "id": "c8027a10",
   "metadata": {},
   "outputs": [
    {
     "name": "stdout",
     "output_type": "stream",
     "text": [
      "      Nome  Idade          Cidade\n",
      "0      Ana     23       São Paulo\n",
      "1    Bruno     35  Rio de Janeiro\n",
      "2   Carlos     22        Curitiba\n",
      "3  Daniela     28        Salvador\n",
      "4  Eduardo     40        Brasília\n"
     ]
    }
   ],
   "source": [
    "# Resetar o índice, tornando-o uma coluna normal novamente\n",
    "df_resetado = df_indexado.reset_index()\n",
    "print(df_resetado.head())"
   ]
  },
  {
   "cell_type": "markdown",
   "id": "54f620e7",
   "metadata": {},
   "source": [
    "# Exercício: Operações Básicas com DataFrames\n",
    "\n",
    "Neste exercício, você aplicará os conceitos de leitura, filtragem de dados e manipulação de índices que aprendeu no Módulo 2.\n",
    "\n",
    "## Instruções\n",
    "\n",
    "### Parte 1: Abrir um DataFrame\n",
    "1. ler o arquivo `mod2arq.csv` com as seguintes colunas:\n",
    "   - **Nome**: Lista com 15 nomes de pessoas.\n",
    "   - **Idade**: Lista com 15 idades correspondentes.\n",
    "   - **Cidade**: Lista com 15 cidades diferentes.\n",
    "   \n",
    "Observação: passar o caminho correto em que o arquivo está e se atentar de realizar a leitura certa baseada em sua extensão\n",
    "   \n",
    "### Parte 2: Filtrar os Dados\n",
    "1. Selecione todas as linhas onde a coluna **Idade** seja maior que 30.\n",
    "2. Exiba o DataFrame filtrado.\n",
    "\n",
    "### Parte 3: Manipulação de Índices\n",
    "1. Defina a coluna **Nome** e **Idade** como o índice do DataFrame.\n",
    "2. Resete o índice, transformando-o novamente em uma coluna normal.\n",
    "\n",
    "\n",
    "\n",
    "\n"
   ]
  },
  {
   "cell_type": "code",
   "execution_count": 29,
   "id": "384b22bd",
   "metadata": {},
   "outputs": [
    {
     "name": "stdout",
     "output_type": "stream",
     "text": [
      "<class 'pandas.core.frame.DataFrame'>\n",
      "RangeIndex: 30 entries, 0 to 29\n",
      "Data columns (total 3 columns):\n",
      " #   Column  Non-Null Count  Dtype \n",
      "---  ------  --------------  ----- \n",
      " 0   Nome    30 non-null     object\n",
      " 1   Idade   30 non-null     int64 \n",
      " 2   Cidade  30 non-null     object\n",
      "dtypes: int64(1), object(2)\n",
      "memory usage: 852.0+ bytes\n",
      "\n",
      "Dados maior que 30\n",
      "\n",
      "       Nome  Idade          Cidade\n",
      "1     Bruno     35  Rio de Janeiro\n",
      "4   Eduardo     40        Brasília\n",
      "8      Igor     32          Recife\n",
      "9     Joana     31          Manaus\n",
      "12   Marcos     38   Florianópolis\n",
      "14   Otávio     33           Natal\n",
      "15    Paulo     37          Maceió\n",
      "17  Roberta     41     João Pessoa\n",
      "18   Sergio     34        Teresina\n",
      "21  Vicente     36         Vitória\n",
      "24     Yuri     35       Boa Vista\n",
      "25     Zara     31     Porto Velho\n",
      "28     Caio     32        Curitiba\n",
      "29   Débora     33        Brasília\n",
      "\n",
      "\n",
      "Nome e Idade como indice \n",
      "\n",
      "                        Cidade\n",
      "Nome     Idade                \n",
      "Ana      23          São Paulo\n",
      "Bruno    35     Rio de Janeiro\n",
      "Carlos   22           Curitiba\n",
      "Daniela  28           Salvador\n",
      "Eduardo  40           Brasília\n",
      "Fernanda 30          Fortaleza\n",
      "Gabriel  25     Belo Horizonte\n",
      "Helena   27       Porto Alegre\n",
      "Igor     32             Recife\n",
      "Joana    31             Manaus\n",
      "Kleber   29              Belém\n",
      "Laura    24            Goiânia\n",
      "Marcos   38      Florianópolis\n",
      "Nina     26       Campo Grande\n",
      "Otávio   33              Natal\n",
      "Paulo    37             Maceió\n",
      "Quênia   22           São Luís\n",
      "Roberta  41        João Pessoa\n",
      "Sergio   34           Teresina\n",
      "Tatiana  29             Macapá\n",
      "Ursula   24            Aracaju\n",
      "Vicente  36            Vitória\n",
      "Wesley   28             Palmas\n",
      "Ximena   30             Cuiabá\n",
      "Yuri     35          Boa Vista\n",
      "Zara     31        Porto Velho\n",
      "Alex     27              Natal\n",
      "Bruna    26          São Paulo\n",
      "Caio     32           Curitiba\n",
      "Débora   33           Brasília\n",
      "\n",
      "\n",
      "Nome e Idade fora do indice \n",
      "\n",
      "        Nome  Idade          Cidade\n",
      "0        Ana     23       São Paulo\n",
      "1      Bruno     35  Rio de Janeiro\n",
      "2     Carlos     22        Curitiba\n",
      "3    Daniela     28        Salvador\n",
      "4    Eduardo     40        Brasília\n",
      "5   Fernanda     30       Fortaleza\n",
      "6    Gabriel     25  Belo Horizonte\n",
      "7     Helena     27    Porto Alegre\n",
      "8       Igor     32          Recife\n",
      "9      Joana     31          Manaus\n",
      "10    Kleber     29           Belém\n",
      "11     Laura     24         Goiânia\n",
      "12    Marcos     38   Florianópolis\n",
      "13      Nina     26    Campo Grande\n",
      "14    Otávio     33           Natal\n",
      "15     Paulo     37          Maceió\n",
      "16    Quênia     22        São Luís\n",
      "17   Roberta     41     João Pessoa\n",
      "18    Sergio     34        Teresina\n",
      "19   Tatiana     29          Macapá\n",
      "20    Ursula     24         Aracaju\n",
      "21   Vicente     36         Vitória\n",
      "22    Wesley     28          Palmas\n",
      "23    Ximena     30          Cuiabá\n",
      "24      Yuri     35       Boa Vista\n",
      "25      Zara     31     Porto Velho\n",
      "26      Alex     27           Natal\n",
      "27     Bruna     26       São Paulo\n",
      "28      Caio     32        Curitiba\n",
      "29    Débora     33        Brasília\n"
     ]
    }
   ],
   "source": [
    "\n",
    "import pandas as pd\n",
    "\n",
    "# Criando o DataFrame com 15 elementos\n",
    "\n",
    "\n",
    "df = pd.read_csv('mod2arq.csv')\n",
    "df.info()\n",
    "\n",
    "# Parte 2: Filtrar todas as linhas onde a 'Idade' é maior que 30\n",
    "print(\"\\nDados maior que 30\\n\")\n",
    "df_filtrado = df[df['Idade'] > 30]\n",
    "print(df_filtrado)\n",
    "print()\n",
    "# Parte 3: Definir 'Nome' como índice\n",
    "\n",
    "print(\"\\nNome e Idade como indice \\n\")\n",
    "df_indexado = df.set_index(['Nome', 'Idade'])\n",
    "print(df_indexado)\n",
    "print()\n",
    "# Resetar o índice\n",
    "\n",
    "print(\"\\nNome e Idade fora do indice \\n\")\n",
    "df_resetado = df_indexado.reset_index()\n",
    "print(df_resetado)"
   ]
  }
 ],
 "metadata": {
  "kernelspec": {
   "display_name": "Python 3 (ipykernel)",
   "language": "python",
   "name": "python3"
  },
  "language_info": {
   "codemirror_mode": {
    "name": "ipython",
    "version": 3
   },
   "file_extension": ".py",
   "mimetype": "text/x-python",
   "name": "python",
   "nbconvert_exporter": "python",
   "pygments_lexer": "ipython3",
   "version": "3.11.5"
  }
 },
 "nbformat": 4,
 "nbformat_minor": 5
}
